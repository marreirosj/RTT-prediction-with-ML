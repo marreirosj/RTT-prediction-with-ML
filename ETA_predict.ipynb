{
 "cells": [
  {
   "cell_type": "markdown",
   "id": "08be6831",
   "metadata": {},
   "source": [
    "# ETA Prediction with AIS data"
   ]
  },
  {
   "cell_type": "code",
   "execution_count": null,
   "id": "27b30b21-432a-40ed-ae3b-c8994a14879f",
   "metadata": {},
   "outputs": [],
   "source": []
  },
  {
   "cell_type": "markdown",
   "id": "a9a99926",
   "metadata": {},
   "source": [
    "## Loading Data"
   ]
  },
  {
   "cell_type": "code",
   "execution_count": 198,
   "id": "73308c62",
   "metadata": {},
   "outputs": [],
   "source": [
    "# Importing the required libraries and scripts\n",
    "\n",
    "import os\n",
    "import sys\n",
    "import zipfile\n",
    "import pandas as pd\n",
    "import numpy as np\n",
    "import matplotlib.pyplot as plt\n",
    "import seaborn as sns\n",
    "import warnings\n",
    "import shutil\n",
    "from scipy import stats\n",
    "from sklearn import metrics\n",
    "from datetime import timedelta\n",
    "sns.set()\n",
    "from subprocess import check_output\n",
    "import folium as fl\n",
    "from folium.plugins import FastMarkerCluster\n",
    "import geopandas as gpd\n",
    "from shapely.geometry import Point\n",
    "import geopandas.tools\n",
    "import cartopy.crs as ccrs\n",
    "import cartopy.feature as cfeature\n",
    "from matplotlib.patches import Circle\n",
    "from matplotlib.lines import Line2D\n",
    "from math import radians, sin, cos, sqrt, atan2\n",
    "from statsmodels.stats.outliers_influence import variance_inflation_factor\n",
    "from sklearn.preprocessing import StandardScaler\n",
    "warnings.filterwarnings('ignore')\n",
    "%matplotlib inline\n",
    "plt.rcParams['figure.figsize'] = (12,8)\n",
    "\n",
    "os.chdir(\"D:\\\\A TESE\\\\Modelo ML\")\n",
    "scripts_dir = r\"D:\\A TESE\\Modelo ML\\Scripts\"\n",
    "sys.path.append(scripts_dir)\n",
    "import unzip_to_csv as unzip\n",
    "import Scripts.splitted_csv as voyages_split\n"
   ]
  },
  {
   "cell_type": "code",
   "execution_count": null,
   "id": "bec0e6c7",
   "metadata": {},
   "outputs": [],
   "source": []
  },
  {
   "cell_type": "code",
   "execution_count": 266,
   "id": "d05a8986",
   "metadata": {},
   "outputs": [
    {
     "name": "stdout",
     "output_type": "stream",
     "text": [
      "D:\\A TESE\\Modelo ML\\Raw_Data\n",
      "D:\\A TESE\\Modelo ML\\unzipped\n",
      "D:\\A TESE\\Modelo ML\\CSV\\merged_dataset.csv\n",
      "D:\\A TESE\\Modelo ML\\CSV\\filtered_dataset.csv\n",
      "D:\\A TESE\\Modelo ML\\CSV\\cleaned_dataset.csv\n",
      "D:\\A TESE\\Modelo ML\\CSV\f",
      "inal_dataset.csv\n",
      "D:\\A TESE\\Modelo ML\\CSV\\voyages_splitted\n",
      "D:\\A TESE\\Modelo ML\\CSV\\voyages_reached\n",
      "D:\\A TESE\\Modelo ML\\CSV\\voyages_outliers\n",
      "D:\\A TESE\\Modelo ML\\CSV\\voyages_final\n",
      "D:\\A TESE\\Modelo ML\\Plots\\finished_voyages\n",
      "D:\\A TESE\\Modelo ML\\Plots\\Outliers\n",
      "D:\\A TESE\\Modelo ML\\CSV\\voyages_out\n",
      "D:\\A TESE\\Modelo ML\\Sines_map.html\n",
      "D:\\A TESE\\Modelo ML\\HTML\\\n"
     ]
    }
   ],
   "source": [
    "# Defining paths to the base directory and checking\n",
    "\n",
    "Raw_Data = \"D:\\\\A TESE\\\\Modelo ML\\\\Raw_Data\"\n",
    "unzipped = \"D:\\\\A TESE\\\\Modelo ML\\\\unzipped\"\n",
    "APS_Dataset = \"D:\\\\A TESE\\\\Modelo ML\\\\CSV\\\\merged_dataset.csv\"\n",
    "Fil_Data = \"D:\\\\A TESE\\\\Modelo ML\\\\CSV\\\\filtered_dataset.csv\"\n",
    "Clean_Data = \"D:\\\\A TESE\\\\Modelo ML\\\\CSV\\\\cleaned_dataset.csv\"\n",
    "Final_Dataset = \"D:\\A TESE\\Modelo ML\\CSV\\final_dataset.csv\"\n",
    "\n",
    "Voyages_un = \"D:\\\\A TESE\\\\Modelo ML\\\\CSV\\\\voyages_splitted\"\n",
    "Voyages_reach = \"D:\\\\A TESE\\\\Modelo ML\\\\CSV\\\\voyages_reached\"\n",
    "Voyages_out = \"D:\\\\A TESE\\\\Modelo ML\\\\CSV\\\\voyages_out\"\n",
    "Voyages_excl = \"D:\\\\A TESE\\\\Modelo ML\\\\CSV\\\\voyages_outliers\"\n",
    "Voyages_final = \"D:\\\\A TESE\\\\Modelo ML\\\\CSV\\\\voyages_final\"\n",
    "\n",
    "Plots = \"D:\\\\A TESE\\\\Modelo ML\\\\Plots\\\\finished_voyages\"\n",
    "Outliers = \"D:\\\\A TESE\\\\Modelo ML\\\\Plots\\\\Outliers\"\n",
    "Voyages_unfin = \"D:\\\\A TESE\\\\Modelo ML\\\\Plots\\\\unfinished_voyages\"\n",
    "\n",
    "Map_html = \"D:\\\\A TESE\\\\Modelo ML\\\\Sines_map.html\"\n",
    "Html_folder = \"D:\\\\A TESE\\\\Modelo ML\\\\HTML\\\\\"\n",
    "\n",
    "print(Raw_Data)\n",
    "print(unzipped)\n",
    "print(APS_Dataset)\n",
    "print(Fil_Data)\n",
    "print(Clean_Data)\n",
    "print(Final_Dataset)\n",
    "\n",
    "print(Voyages_un)\n",
    "print(Voyages_reach)\n",
    "print (Voyages_excl)\n",
    "print (Voyages_final)\n",
    "\n",
    "print(Plots)\n",
    "print (Outliers)\n",
    "print (Voyages_out)\n",
    "\n",
    "print(Map_html)\n",
    "print(Html_folder)\n"
   ]
  },
  {
   "cell_type": "code",
   "execution_count": null,
   "id": "48cd6420",
   "metadata": {},
   "outputs": [],
   "source": [
    "# Unzipping files and saving it into a single CSV\n",
    "# using a created script named unzip_to_csv.py\n",
    "\n",
    "unzip.main(Raw_Data,unzipped,APS_Dataset)\n"
   ]
  },
  {
   "cell_type": "code",
   "execution_count": null,
   "id": "3befbee1",
   "metadata": {},
   "outputs": [],
   "source": [
    "# Loading the dataset\n",
    "# The dataset is to large => use of chunksize\n",
    "# It allows to load a portion of the file into memory, process it, and then discard that chunk to load the next one\n",
    "# Due to hardware constraints, we need to save automatically to a new CSV because the space allocated to C: have no space for df\n",
    "# At the same time changes were made to make new dataset lighter\n",
    "# Unnecessary columns were dropped.\n",
    "# Only ships with code 70 have been saved or nulls (in case a 70 code ship has a null in some lines).\n",
    "\n",
    "\n",
    "# Defining chunk size for memory-efficient reading to 100.000 lines each chunk\n",
    "chunk_size = 100000\n",
    "\n",
    "#Defining the columns to drop\n",
    "columns_to_drop = ['SourceName', 'Name', 'tipo_desc', 'calado', 'largura', 'comprimento', 'Simulated']\n",
    "\n",
    "# Initializing an empty list to store the processed chunks\n",
    "chunks = []\n",
    "\n",
    "# Iterating through each chunk\n",
    "for chunk in pd.read_csv(APS_Dataset, chunksize=chunk_size):\n",
    "    \n",
    "    # Step 1: Dropping unnecessary columns\n",
    "    chunk = chunk.drop(columns=columns_to_drop, errors='ignore')\n",
    "    \n",
    "    # Step 2: Filtering rows where tipo_cod is 70 or tipo_cod is null (NaN)\n",
    "    filtered_chunk = chunk[(chunk['tipo_cod'] == 70) | (chunk['tipo_cod'].isnull())]\n",
    "    \n",
    "    # Step 3: Writing filtered data to the output CSV in append mode\n",
    "    filtered_chunk.to_csv(Fil_Data_0, mode='a', header=not os.path.exists(Fil_Data), index=False)\n",
    "\n",
    "print(f\"Filtered data has been saved to {Fil_Data_0}\")    "
   ]
  },
  {
   "cell_type": "code",
   "execution_count": 5,
   "id": "c9cdd77e",
   "metadata": {},
   "outputs": [],
   "source": [
    "# Dataset with data without unnecessary columns and only ships of type 70 or with null values\n",
    "\n",
    "dataset = pd.read_csv('D:\\\\A TESE\\\\Modelo ML\\\\CSV\\\\filtered_dataset_0.csv')"
   ]
  },
  {
   "cell_type": "code",
   "execution_count": null,
   "id": "66ef8fa5-5963-4ab5-8ee7-1c7db4f0890a",
   "metadata": {},
   "outputs": [],
   "source": []
  },
  {
   "cell_type": "markdown",
   "id": "54e5a99b",
   "metadata": {},
   "source": [
    "## First look"
   ]
  },
  {
   "cell_type": "code",
   "execution_count": 7,
   "id": "c1957569",
   "metadata": {},
   "outputs": [
    {
     "data": {
      "text/plain": [
       "(71763789, 10)"
      ]
     },
     "execution_count": 7,
     "metadata": {},
     "output_type": "execute_result"
    }
   ],
   "source": [
    "dataset.shape"
   ]
  },
  {
   "cell_type": "code",
   "execution_count": 9,
   "id": "6f76ef8e",
   "metadata": {},
   "outputs": [
    {
     "data": {
      "text/plain": [
       "UTCDate         object\n",
       "long           float64\n",
       "lat            float64\n",
       "MMSI             int64\n",
       "Imo            float64\n",
       "tipo_cod         int64\n",
       "ETA             object\n",
       "Destination     object\n",
       "SOGKnots       float64\n",
       "COGDegrees     float64\n",
       "dtype: object"
      ]
     },
     "execution_count": 9,
     "metadata": {},
     "output_type": "execute_result"
    }
   ],
   "source": [
    "dataset.dtypes"
   ]
  },
  {
   "cell_type": "code",
   "execution_count": 11,
   "id": "524e8f61",
   "metadata": {},
   "outputs": [
    {
     "data": {
      "text/html": [
       "<div>\n",
       "<style scoped>\n",
       "    .dataframe tbody tr th:only-of-type {\n",
       "        vertical-align: middle;\n",
       "    }\n",
       "\n",
       "    .dataframe tbody tr th {\n",
       "        vertical-align: top;\n",
       "    }\n",
       "\n",
       "    .dataframe thead th {\n",
       "        text-align: right;\n",
       "    }\n",
       "</style>\n",
       "<table border=\"1\" class=\"dataframe\">\n",
       "  <thead>\n",
       "    <tr style=\"text-align: right;\">\n",
       "      <th></th>\n",
       "      <th>UTCDate</th>\n",
       "      <th>long</th>\n",
       "      <th>lat</th>\n",
       "      <th>MMSI</th>\n",
       "      <th>Imo</th>\n",
       "      <th>tipo_cod</th>\n",
       "      <th>ETA</th>\n",
       "      <th>Destination</th>\n",
       "      <th>SOGKnots</th>\n",
       "      <th>COGDegrees</th>\n",
       "    </tr>\n",
       "  </thead>\n",
       "  <tbody>\n",
       "    <tr>\n",
       "      <th>0</th>\n",
       "      <td>2023-07-12 06:06:46</td>\n",
       "      <td>-9.572355</td>\n",
       "      <td>37.723582</td>\n",
       "      <td>356413000</td>\n",
       "      <td>9856282.0</td>\n",
       "      <td>70</td>\n",
       "      <td>2023-07-14 06:00:00</td>\n",
       "      <td>ES GIJ</td>\n",
       "      <td>12.8</td>\n",
       "      <td>347.4</td>\n",
       "    </tr>\n",
       "    <tr>\n",
       "      <th>1</th>\n",
       "      <td>2023-07-12 06:06:46</td>\n",
       "      <td>-7.583417</td>\n",
       "      <td>36.053613</td>\n",
       "      <td>636017197</td>\n",
       "      <td>9696450.0</td>\n",
       "      <td>70</td>\n",
       "      <td>2023-07-12 15:00:00</td>\n",
       "      <td>ES ALG</td>\n",
       "      <td>12.6</td>\n",
       "      <td>98.3</td>\n",
       "    </tr>\n",
       "    <tr>\n",
       "      <th>2</th>\n",
       "      <td>2023-07-12 06:06:47</td>\n",
       "      <td>-9.675808</td>\n",
       "      <td>37.227897</td>\n",
       "      <td>566675000</td>\n",
       "      <td>9613422.0</td>\n",
       "      <td>70</td>\n",
       "      <td>2023-07-17 06:00:00</td>\n",
       "      <td>MARTAS</td>\n",
       "      <td>12.6</td>\n",
       "      <td>170.1</td>\n",
       "    </tr>\n",
       "    <tr>\n",
       "      <th>3</th>\n",
       "      <td>2023-07-12 06:06:49</td>\n",
       "      <td>-6.707450</td>\n",
       "      <td>36.073435</td>\n",
       "      <td>440371000</td>\n",
       "      <td>9158616.0</td>\n",
       "      <td>70</td>\n",
       "      <td>2023-07-13 00:01:00</td>\n",
       "      <td>PTSET</td>\n",
       "      <td>13.1</td>\n",
       "      <td>288.5</td>\n",
       "    </tr>\n",
       "    <tr>\n",
       "      <th>4</th>\n",
       "      <td>2023-07-12 06:06:51</td>\n",
       "      <td>-9.161438</td>\n",
       "      <td>37.942635</td>\n",
       "      <td>355835000</td>\n",
       "      <td>9709336.0</td>\n",
       "      <td>70</td>\n",
       "      <td>2023-07-16 07:00:00</td>\n",
       "      <td>SLUISKIL</td>\n",
       "      <td>11.5</td>\n",
       "      <td>299.9</td>\n",
       "    </tr>\n",
       "  </tbody>\n",
       "</table>\n",
       "</div>"
      ],
      "text/plain": [
       "               UTCDate      long        lat       MMSI        Imo  tipo_cod  \\\n",
       "0  2023-07-12 06:06:46 -9.572355  37.723582  356413000  9856282.0        70   \n",
       "1  2023-07-12 06:06:46 -7.583417  36.053613  636017197  9696450.0        70   \n",
       "2  2023-07-12 06:06:47 -9.675808  37.227897  566675000  9613422.0        70   \n",
       "3  2023-07-12 06:06:49 -6.707450  36.073435  440371000  9158616.0        70   \n",
       "4  2023-07-12 06:06:51 -9.161438  37.942635  355835000  9709336.0        70   \n",
       "\n",
       "                   ETA Destination  SOGKnots  COGDegrees  \n",
       "0  2023-07-14 06:00:00      ES GIJ      12.8       347.4  \n",
       "1  2023-07-12 15:00:00      ES ALG      12.6        98.3  \n",
       "2  2023-07-17 06:00:00      MARTAS      12.6       170.1  \n",
       "3  2023-07-13 00:01:00       PTSET      13.1       288.5  \n",
       "4  2023-07-16 07:00:00    SLUISKIL      11.5       299.9  "
      ]
     },
     "execution_count": 11,
     "metadata": {},
     "output_type": "execute_result"
    }
   ],
   "source": [
    "dataset.head(5)"
   ]
  },
  {
   "cell_type": "code",
   "execution_count": 13,
   "id": "62dd9f1b",
   "metadata": {},
   "outputs": [
    {
     "name": "stdout",
     "output_type": "stream",
     "text": [
      "UTCDate            0\n",
      "long            4544\n",
      "lat             4544\n",
      "MMSI               0\n",
      "Imo             2261\n",
      "tipo_cod           0\n",
      "ETA            71176\n",
      "Destination    51923\n",
      "SOGKnots        4841\n",
      "COGDegrees     29600\n",
      "dtype: int64\n"
     ]
    }
   ],
   "source": [
    "null_summary = dataset.isnull().sum()\n",
    "print(null_summary)"
   ]
  },
  {
   "cell_type": "code",
   "execution_count": null,
   "id": "a4d6a6c4-978a-4b46-9122-00328fdb29f1",
   "metadata": {},
   "outputs": [],
   "source": []
  },
  {
   "cell_type": "markdown",
   "id": "8cb72522",
   "metadata": {},
   "source": [
    "## Data Handling"
   ]
  },
  {
   "cell_type": "code",
   "execution_count": 15,
   "id": "2f305dda",
   "metadata": {},
   "outputs": [],
   "source": [
    "dfToClean = dataset"
   ]
  },
  {
   "cell_type": "code",
   "execution_count": 17,
   "id": "9d552978-707d-41b5-84d3-8f982f2bd08e",
   "metadata": {},
   "outputs": [
    {
     "data": {
      "text/plain": [
       "(71763789, 10)"
      ]
     },
     "execution_count": 17,
     "metadata": {},
     "output_type": "execute_result"
    }
   ],
   "source": [
    "dfToClean.shape"
   ]
  },
  {
   "cell_type": "code",
   "execution_count": 19,
   "id": "d82a1501-45aa-49c4-a363-6d100afc3714",
   "metadata": {},
   "outputs": [
    {
     "data": {
      "text/plain": [
       "UTCDate         object\n",
       "long           float64\n",
       "lat            float64\n",
       "MMSI             int64\n",
       "Imo            float64\n",
       "tipo_cod         int64\n",
       "ETA             object\n",
       "Destination     object\n",
       "SOGKnots       float64\n",
       "COGDegrees     float64\n",
       "dtype: object"
      ]
     },
     "execution_count": 19,
     "metadata": {},
     "output_type": "execute_result"
    }
   ],
   "source": [
    "dfToClean.dtypes"
   ]
  },
  {
   "cell_type": "code",
   "execution_count": null,
   "id": "fd1e3979-f191-4efd-ab5b-b90d01a32b82",
   "metadata": {},
   "outputs": [],
   "source": []
  },
  {
   "cell_type": "markdown",
   "id": "1b9cdbfa-5dbb-49fd-9479-a5c4ab322a98",
   "metadata": {},
   "source": [
    "### Types"
   ]
  },
  {
   "cell_type": "code",
   "execution_count": 21,
   "id": "2a63f5c2-85c2-4fa5-b433-5eadf497133e",
   "metadata": {},
   "outputs": [],
   "source": [
    "# Converting the 'ETA' and 'UTCDate' columns (which are an object) to datetime\n",
    "dfToClean['ETA'] = pd.to_datetime(dfToClean['ETA'], format='%Y-%m-%d %H:%M:%S', errors='coerce')\n",
    "dfToClean['UTCDate'] = pd.to_datetime(dfToClean['UTCDate'], format='%Y-%m-%d %H:%M:%S', errors='coerce')\n"
   ]
  },
  {
   "cell_type": "code",
   "execution_count": 23,
   "id": "a22a16e5-4168-45fb-8b94-d82de655b218",
   "metadata": {},
   "outputs": [
    {
     "data": {
      "text/plain": [
       "UTCDate        datetime64[ns]\n",
       "long                  float64\n",
       "lat                   float64\n",
       "MMSI                    int64\n",
       "Imo                   float64\n",
       "tipo_cod                int64\n",
       "ETA            datetime64[ns]\n",
       "Destination            object\n",
       "SOGKnots              float64\n",
       "COGDegrees            float64\n",
       "dtype: object"
      ]
     },
     "execution_count": 23,
     "metadata": {},
     "output_type": "execute_result"
    }
   ],
   "source": [
    "dfToClean.dtypes"
   ]
  },
  {
   "cell_type": "code",
   "execution_count": null,
   "id": "efa30c9d-de48-4d6e-a6db-569769565c79",
   "metadata": {},
   "outputs": [],
   "source": []
  },
  {
   "cell_type": "markdown",
   "id": "1d2ea1e5-ba8f-4d0d-8cf4-710622ccf112",
   "metadata": {},
   "source": [
    "### Standardization of 'Destination' feature"
   ]
  },
  {
   "cell_type": "code",
   "execution_count": 25,
   "id": "13ff1f7d",
   "metadata": {},
   "outputs": [
    {
     "data": {
      "text/plain": [
       "(847821, 10)"
      ]
     },
     "execution_count": 25,
     "metadata": {},
     "output_type": "execute_result"
    }
   ],
   "source": [
    "# List of valid destinations and replacing all by PTSines\n",
    "destinations = [\n",
    "    'SINES', 'ANTWERP>>>SINES', '44SINES', 'FOR ORDER SINES ANCH', 'HALIFAX SINES', 'MAPTM>SINES',\n",
    "    'OPLSINES', 'PORTO_SINES', 'PT SIE  SINES', 'PT SINES', 'PTSIE SINES', 'PTSIE-SINES',\n",
    "    'PTSINES', 'SINES  FOR ORDERS', 'SINES  PORTUGAL', 'SINES (PTSIE)', 'SINES - B3',\n",
    "    'SINES - BERTH 5', 'SINES - PILOT STN', 'SINES ANCHORAGE', 'SINES OPL', 'SINES PORTUGAL',\n",
    "    'SINES PT', 'SINES PTSIE', 'SINES(PORTUGAL)', 'SINES,', 'SINES, PORTUGAL', 'SINES, PT',\n",
    "    'SINES,PORTUGAL', 'SINES,PRTGL', 'SINES-PORTUGAL', 'SINES-PT', 'SINES. PORTUGAL',\n",
    "    'SINES.PORTUGAL', 'SINES_PT'\n",
    "]\n",
    "\n",
    "# Filtering ships with valid destinations or null destinations\n",
    "dfToClean = dataset[dataset['Destination'].isin(destinations) | dataset['Destination'].isnull()]\n",
    "\n",
    "# Replacing all valid destinations in the list with 'PTSines'\n",
    "dfToClean['Destination'] = dfToClean['Destination'].replace(destinations, 'PTSines')\n",
    "\n",
    "dfToClean.shape"
   ]
  },
  {
   "cell_type": "code",
   "execution_count": null,
   "id": "f0961188-23f3-4ab1-b03f-6c8e55066663",
   "metadata": {},
   "outputs": [],
   "source": []
  },
  {
   "cell_type": "markdown",
   "id": "d97f33b8-15af-4e58-965a-74ac10aed79e",
   "metadata": {},
   "source": [
    "### Renaming features"
   ]
  },
  {
   "cell_type": "code",
   "execution_count": 27,
   "id": "e70bcdc6-a6a7-4237-9b5b-5904c6f9b2cf",
   "metadata": {},
   "outputs": [],
   "source": [
    "# Defining the new column mapping\n",
    "# aligned with AIS international standards \n",
    "dfToClean = dfToClean.rename(columns={\n",
    "    'UTCDate': 'BaseDateTime',\n",
    "    'long': 'LON',\n",
    "    'lat': 'LAT',\n",
    "    'tipo_cod': 'Type', \n",
    "    'SOGKnots': 'SOG', \n",
    "    'COGDegrees': 'COG',\n",
    "})"
   ]
  },
  {
   "cell_type": "code",
   "execution_count": null,
   "id": "e6209026-1fbf-4bf8-93d3-738b389aa2f8",
   "metadata": {},
   "outputs": [],
   "source": []
  },
  {
   "cell_type": "markdown",
   "id": "99daed40-674a-494c-9d9b-a4ecc5c568f0",
   "metadata": {},
   "source": [
    "### Grouping data by 'ShipVoyage' and selecting voyages that reached the port"
   ]
  },
  {
   "cell_type": "code",
   "execution_count": 29,
   "id": "ac65ccdd-179c-4ad5-821a-1a9508fd5992",
   "metadata": {},
   "outputs": [
    {
     "name": "stdout",
     "output_type": "stream",
     "text": [
      "          MMSI Destination        BaseDateTime   ShipVoyage\n",
      "0  209550000.0     PTSines 2023-09-25 12:49:00  209550000_0\n",
      "1  209550000.0     PTSines 2023-09-25 12:49:02  209550000_0\n",
      "2  209550000.0     PTSines 2023-09-25 12:49:14  209550000_0\n",
      "3  209550000.0     PTSines 2023-09-25 12:49:14  209550000_0\n",
      "4  209550000.0     PTSines 2023-09-25 12:49:20  209550000_0\n"
     ]
    }
   ],
   "source": [
    "# Separating our data in ShipVoyage, which is all records of a voyage\n",
    "\n",
    "\n",
    "# Defining the Sines port coordinates (Latitude, Longitude)\n",
    "SINES_COORDS = [37.933896, -8.855063]\n",
    "RADIUS_THRESHOLD_KM = 7  # 7 km radius\n",
    "\n",
    "# Step 1: Sorting the DataFrame by MMSI and BaseDateTime\n",
    "dfToClean = dfToClean.sort_values(by=['MMSI', 'BaseDateTime'])\n",
    "\n",
    "# Step 2: Creating the ShipVoyage column based on the 6-hour gap\n",
    "# Initializing a column for ShipVoyage\n",
    "dfToClean['ShipVoyage'] = None\n",
    "\n",
    "# Initializing an empty dictionary to track voyage numbers for each MMSI\n",
    "voyage_counter = {}\n",
    "\n",
    "# Iterating through the rows to assign ShipVoyage\n",
    "last_mmsi = None\n",
    "last_time = None\n",
    "\n",
    "for idx, row in dfToClean.iterrows():\n",
    "    mmsi = row['MMSI']\n",
    "    current_time = pd.to_datetime(row['BaseDateTime'])\n",
    "    \n",
    "    # Initializing voyage number if new MMSI\n",
    "    if mmsi != last_mmsi:\n",
    "        voyage_counter[mmsi] = 0  # Start voyage count at 0 for each MMSI\n",
    "        dfToClean.at[idx, 'ShipVoyage'] = f\"{mmsi}_0\"  # First voyage starts at _0\n",
    "    else:\n",
    "        # Checking if the time difference is greater than 6 hours to start a new voyage\n",
    "        if (current_time - last_time).total_seconds() > 6 * 3600:\n",
    "            voyage_counter[mmsi] += 1  # Increment the voyage number\n",
    "        dfToClean.at[idx, 'ShipVoyage'] = f\"{mmsi}_{voyage_counter[mmsi]}\"  # Assign voyage ID\n",
    "    \n",
    "    # Updating last_mmsi and last_time\n",
    "    last_mmsi = mmsi\n",
    "    last_time = current_time\n",
    "\n",
    "# Step 3: Calculating the distance to Sines Port using the Haversine function\n",
    "def haversine(lat1, lon1, lat2, lon2):\n",
    "    R = 6371  # Radius of the Earth in kilometers\n",
    "    lat1_rad, lon1_rad = np.radians(lat1), np.radians(lon1)\n",
    "    lat2_rad, lon2_rad = np.radians(lat2), np.radians(lon2)\n",
    "\n",
    "    dlat = lat2_rad - lat1_rad\n",
    "    dlon = lon2_rad - lon1_rad\n",
    "\n",
    "    a = np.sin(dlat / 2.0)**2 + np.cos(lat1_rad) * np.cos(lat2_rad) * np.sin(dlon / 2.0)**2\n",
    "    c = 2 * np.arcsin(np.sqrt(a))\n",
    "\n",
    "    return R * c  # Return distance in kilometers\n",
    "\n",
    "# Step 4: Calculate the RTD (Remaining Distance to Destination) for each row in dfToClean\n",
    "dfToClean['RTD'] = dfToClean.apply(\n",
    "    lambda row: haversine(row['LAT'], row['LON'], SINES_COORDS[0], SINES_COORDS[1]), axis=1\n",
    ")\n",
    "\n",
    "# Step 5: Updating each voyage to remove rows after the first time RTD < 7 km\n",
    "def update_voyage(group):\n",
    "    # Find the first index where RTD is less than or equal to 7 km\n",
    "    first_within_7km = group[group['RTD'] <= RADIUS_THRESHOLD_KM].index.min()\n",
    "\n",
    "    # If such a row is found, keep only the rows before or up to this index\n",
    "    if pd.notna(first_within_7km):\n",
    "        return group.loc[:first_within_7km]\n",
    "    return group  # If no row is within 7 km, keep the full group\n",
    "\n",
    "# Apply the update function to each ShipVoyage group\n",
    "dfToClean = dfToClean.groupby('ShipVoyage').apply(update_voyage).reset_index(drop=True)\n",
    "\n",
    "# Step 6: Initializing dfCheck to store voyages with PTSines destination passing within the 7 km radius\n",
    "dfCheck = pd.DataFrame()\n",
    "\n",
    "# Filter voyages where destination is PTSines and the ship passes within 7 km\n",
    "def filter_voyages(group):\n",
    "    if 'PTSines' in group['Destination'].values:\n",
    "        within_7km = group[group['RTD'] <= RADIUS_THRESHOLD_KM]\n",
    "        if not within_7km.empty:\n",
    "            return group  # Add to dfCheck if any part of the voyage is within 7 km\n",
    "    return pd.DataFrame()  # Return empty dataframe if condition isn't met\n",
    "\n",
    "# Apply filtering to each ShipVoyage\n",
    "dfCheck = dfToClean.groupby('ShipVoyage').apply(filter_voyages).reset_index(drop=True)\n",
    "\n",
    "# Step 7: Remove 'RTD' column if you don't need it anymore\n",
    "dfToClean = dfToClean.drop(columns=['RTD'])\n",
    "\n",
    "# Step 8: Print out results for confirmation\n",
    "print(dfCheck[['MMSI', 'Destination', 'BaseDateTime', 'ShipVoyage']].head())\n",
    "\n",
    "dfCheck.to_csv(Fil_Data, index=False)"
   ]
  },
  {
   "cell_type": "code",
   "execution_count": null,
   "id": "5082d485-5d0a-486b-a88d-38a6595a4206",
   "metadata": {},
   "outputs": [],
   "source": []
  },
  {
   "cell_type": "code",
   "execution_count": 33,
   "id": "52d5e3bc-c994-46b7-a3b4-b2ce1a82afff",
   "metadata": {},
   "outputs": [
    {
     "data": {
      "text/html": [
       "<div>\n",
       "<style scoped>\n",
       "    .dataframe tbody tr th:only-of-type {\n",
       "        vertical-align: middle;\n",
       "    }\n",
       "\n",
       "    .dataframe tbody tr th {\n",
       "        vertical-align: top;\n",
       "    }\n",
       "\n",
       "    .dataframe thead th {\n",
       "        text-align: right;\n",
       "    }\n",
       "</style>\n",
       "<table border=\"1\" class=\"dataframe\">\n",
       "  <thead>\n",
       "    <tr style=\"text-align: right;\">\n",
       "      <th></th>\n",
       "      <th>BaseDateTime</th>\n",
       "      <th>LON</th>\n",
       "      <th>LAT</th>\n",
       "      <th>MMSI</th>\n",
       "      <th>Imo</th>\n",
       "      <th>Type</th>\n",
       "      <th>ETA</th>\n",
       "      <th>Destination</th>\n",
       "      <th>SOG</th>\n",
       "      <th>COG</th>\n",
       "      <th>ShipVoyage</th>\n",
       "      <th>RTD</th>\n",
       "    </tr>\n",
       "  </thead>\n",
       "  <tbody>\n",
       "    <tr>\n",
       "      <th>0</th>\n",
       "      <td>2023-09-25 12:49:00</td>\n",
       "      <td>-7.689917</td>\n",
       "      <td>36.357050</td>\n",
       "      <td>209550000.0</td>\n",
       "      <td>9285990.0</td>\n",
       "      <td>70.0</td>\n",
       "      <td>2023-09-25 15:00:00</td>\n",
       "      <td>PTSines</td>\n",
       "      <td>16.8</td>\n",
       "      <td>288.0</td>\n",
       "      <td>209550000_0</td>\n",
       "      <td>203.485182</td>\n",
       "    </tr>\n",
       "    <tr>\n",
       "      <th>1</th>\n",
       "      <td>2023-09-25 12:49:02</td>\n",
       "      <td>-7.690650</td>\n",
       "      <td>36.357233</td>\n",
       "      <td>209550000.0</td>\n",
       "      <td>9285990.0</td>\n",
       "      <td>70.0</td>\n",
       "      <td>2023-09-25 15:00:00</td>\n",
       "      <td>PTSines</td>\n",
       "      <td>16.8</td>\n",
       "      <td>288.0</td>\n",
       "      <td>209550000_0</td>\n",
       "      <td>203.434578</td>\n",
       "    </tr>\n",
       "    <tr>\n",
       "      <th>2</th>\n",
       "      <td>2023-09-25 12:49:14</td>\n",
       "      <td>-7.691667</td>\n",
       "      <td>36.357500</td>\n",
       "      <td>209550000.0</td>\n",
       "      <td>9285990.0</td>\n",
       "      <td>70.0</td>\n",
       "      <td>2023-09-25 15:00:00</td>\n",
       "      <td>PTSines</td>\n",
       "      <td>16.8</td>\n",
       "      <td>288.0</td>\n",
       "      <td>209550000_0</td>\n",
       "      <td>203.363237</td>\n",
       "    </tr>\n",
       "    <tr>\n",
       "      <th>3</th>\n",
       "      <td>2023-09-25 12:49:14</td>\n",
       "      <td>-7.691667</td>\n",
       "      <td>36.357500</td>\n",
       "      <td>209550000.0</td>\n",
       "      <td>9285990.0</td>\n",
       "      <td>70.0</td>\n",
       "      <td>2023-09-25 15:00:00</td>\n",
       "      <td>PTSines</td>\n",
       "      <td>16.8</td>\n",
       "      <td>288.0</td>\n",
       "      <td>209550000_0</td>\n",
       "      <td>203.363237</td>\n",
       "    </tr>\n",
       "    <tr>\n",
       "      <th>4</th>\n",
       "      <td>2023-09-25 12:49:20</td>\n",
       "      <td>-7.692200</td>\n",
       "      <td>36.357650</td>\n",
       "      <td>209550000.0</td>\n",
       "      <td>9285990.0</td>\n",
       "      <td>70.0</td>\n",
       "      <td>2023-09-25 15:00:00</td>\n",
       "      <td>PTSines</td>\n",
       "      <td>16.8</td>\n",
       "      <td>288.0</td>\n",
       "      <td>209550000_0</td>\n",
       "      <td>203.324848</td>\n",
       "    </tr>\n",
       "  </tbody>\n",
       "</table>\n",
       "</div>"
      ],
      "text/plain": [
       "         BaseDateTime       LON        LAT         MMSI        Imo  Type  \\\n",
       "0 2023-09-25 12:49:00 -7.689917  36.357050  209550000.0  9285990.0  70.0   \n",
       "1 2023-09-25 12:49:02 -7.690650  36.357233  209550000.0  9285990.0  70.0   \n",
       "2 2023-09-25 12:49:14 -7.691667  36.357500  209550000.0  9285990.0  70.0   \n",
       "3 2023-09-25 12:49:14 -7.691667  36.357500  209550000.0  9285990.0  70.0   \n",
       "4 2023-09-25 12:49:20 -7.692200  36.357650  209550000.0  9285990.0  70.0   \n",
       "\n",
       "                  ETA Destination   SOG    COG   ShipVoyage         RTD  \n",
       "0 2023-09-25 15:00:00     PTSines  16.8  288.0  209550000_0  203.485182  \n",
       "1 2023-09-25 15:00:00     PTSines  16.8  288.0  209550000_0  203.434578  \n",
       "2 2023-09-25 15:00:00     PTSines  16.8  288.0  209550000_0  203.363237  \n",
       "3 2023-09-25 15:00:00     PTSines  16.8  288.0  209550000_0  203.363237  \n",
       "4 2023-09-25 15:00:00     PTSines  16.8  288.0  209550000_0  203.324848  "
      ]
     },
     "execution_count": 33,
     "metadata": {},
     "output_type": "execute_result"
    }
   ],
   "source": [
    "dfCheck.head()"
   ]
  },
  {
   "cell_type": "code",
   "execution_count": 35,
   "id": "718585d0-997e-416a-9552-976977b12a77",
   "metadata": {},
   "outputs": [
    {
     "name": "stdout",
     "output_type": "stream",
     "text": [
      "Number of unique ShipVoyage values: 91\n"
     ]
    }
   ],
   "source": [
    "# Checking the number of unique ShipVoyage values\n",
    "unique_shipvoyages = dfCheck['ShipVoyage'].nunique()\n",
    "\n",
    "print(f\"Number of unique ShipVoyage values: {unique_shipvoyages}\")"
   ]
  },
  {
   "cell_type": "code",
   "execution_count": null,
   "id": "17d36933-6956-49d1-9a66-a91bbd50f849",
   "metadata": {},
   "outputs": [],
   "source": []
  },
  {
   "cell_type": "markdown",
   "id": "95491f1c-a3d7-4705-8f43-e6c2dd32b836",
   "metadata": {},
   "source": [
    "### Missing values"
   ]
  },
  {
   "cell_type": "code",
   "execution_count": 37,
   "id": "a8db29c6",
   "metadata": {},
   "outputs": [
    {
     "name": "stdout",
     "output_type": "stream",
     "text": [
      "BaseDateTime     0\n",
      "LON              1\n",
      "LAT              1\n",
      "MMSI             0\n",
      "Imo             29\n",
      "Type             0\n",
      "ETA             29\n",
      "Destination     29\n",
      "SOG              1\n",
      "COG              1\n",
      "ShipVoyage       0\n",
      "RTD              1\n",
      "dtype: int64\n"
     ]
    }
   ],
   "source": [
    "null_summary = dfCheck.isnull().sum()\n",
    "print(null_summary)"
   ]
  },
  {
   "cell_type": "code",
   "execution_count": 39,
   "id": "e107ced8-013d-4392-85ae-4f90c7faf918",
   "metadata": {},
   "outputs": [
    {
     "name": "stdout",
     "output_type": "stream",
     "text": [
      "BaseDateTime     0\n",
      "LON              1\n",
      "LAT              1\n",
      "MMSI             0\n",
      "Imo              0\n",
      "Type             0\n",
      "ETA             29\n",
      "Destination      0\n",
      "SOG              1\n",
      "COG              1\n",
      "ShipVoyage       0\n",
      "RTD              1\n",
      "dtype: int64\n"
     ]
    }
   ],
   "source": [
    "# Filling null values at IMO  identification and Destination (PTSines)\n",
    "dfCheck['Destination'].fillna('PTSines', inplace=True)\n",
    "\n",
    "# Group by 'ShipVoyage', then propagate non-null IMO values forward and backward\n",
    "dfCheck['Imo'] = dfCheck.groupby('ShipVoyage')['Imo'].transform(lambda group: group.ffill().bfill())\n",
    "\n",
    "null_summary = dfCheck.isnull().sum()\n",
    "print(null_summary)"
   ]
  },
  {
   "cell_type": "code",
   "execution_count": 41,
   "id": "d655f436",
   "metadata": {},
   "outputs": [
    {
     "name": "stdout",
     "output_type": "stream",
     "text": [
      "BaseDateTime    0\n",
      "LON             1\n",
      "LAT             1\n",
      "MMSI            0\n",
      "Imo             0\n",
      "Type            0\n",
      "ETA             0\n",
      "Destination     0\n",
      "SOG             1\n",
      "COG             1\n",
      "ShipVoyage      0\n",
      "RTD             1\n",
      "dtype: int64\n"
     ]
    }
   ],
   "source": [
    "# Filling missing ETAs with the median of the ETA before and after within the same voyage\n",
    "def fill_missing_eta(group):\n",
    "    # Use forward and backward fill first to ensure values at the edges (beginning and end) are handled\n",
    "    group['ETA'] = group['ETA'].fillna(method='ffill').fillna(method='bfill')\n",
    "    \n",
    "    # Calculating the median for gaps within the group\n",
    "    # If the current ETA is still null\n",
    "    # Take the ETA before and after the current one\n",
    "    for i in range(1, len(group)-1):\n",
    "        if pd.isnull(group['ETA'].iloc[i]):  \n",
    "            \n",
    "            prev_eta = group['ETA'].iloc[i-1]\n",
    "            next_eta = group['ETA'].iloc[i+1]\n",
    "            \n",
    "            # Only fill if both previous and next ETAs are valid (not NaT)\n",
    "            if pd.notnull(prev_eta) and pd.notnull(next_eta):\n",
    "                # Fill with the median between the previous and next ETA\n",
    "                group['ETA'].iloc[i] = prev_eta + (next_eta - prev_eta) / 2\n",
    "            \n",
    "    return group\n",
    "\n",
    "# Groupping by ShipVoyage and filling missing ETAs\n",
    "dfCheck = dfCheck.groupby('ShipVoyage').apply(fill_missing_eta)\n",
    "\n",
    "null_summary = dfCheck.isnull().sum()\n",
    "print(null_summary)"
   ]
  },
  {
   "cell_type": "code",
   "execution_count": 49,
   "id": "7b229baf",
   "metadata": {},
   "outputs": [
    {
     "name": "stdout",
     "output_type": "stream",
     "text": [
      "                          BaseDateTime  LON  LAT         MMSI        Imo  \\\n",
      "ShipVoyage                                                                 \n",
      "353289000_0 194183 2024-05-13 09:41:29  NaN  NaN  353289000.0  9372482.0   \n",
      "\n",
      "                    Type                 ETA Destination  SOG  COG  \\\n",
      "ShipVoyage                                                           \n",
      "353289000_0 194183  70.0 2024-09-23 20:59:00     PTSines  NaN  NaN   \n",
      "\n",
      "                     ShipVoyage  RTD  \n",
      "ShipVoyage                            \n",
      "353289000_0 194183  353289000_0  NaN  \n"
     ]
    }
   ],
   "source": [
    "# Filtering the dataset to show rows where any column has null values\n",
    "rows_with_nulls = dfCheck[dfCheck.isnull().any(axis=1)]\n",
    "\n",
    "print(rows_with_nulls)"
   ]
  },
  {
   "cell_type": "code",
   "execution_count": 57,
   "id": "14ed9ba1",
   "metadata": {},
   "outputs": [
    {
     "name": "stdout",
     "output_type": "stream",
     "text": [
      "BaseDateTime    0\n",
      "LON             0\n",
      "LAT             0\n",
      "MMSI            0\n",
      "Imo             0\n",
      "Type            0\n",
      "ETA             0\n",
      "Destination     0\n",
      "SOG             0\n",
      "COG             0\n",
      "ShipVoyage      0\n",
      "RTD             0\n",
      "dtype: int64\n"
     ]
    }
   ],
   "source": [
    "# Dropping any row that contains null values\n",
    "dfCheck = dfCheck.dropna()\n",
    "\n",
    "null_summary = dfCheck.isnull().sum()\n",
    "print(null_summary)"
   ]
  },
  {
   "cell_type": "code",
   "execution_count": 59,
   "id": "591d6864",
   "metadata": {},
   "outputs": [
    {
     "data": {
      "text/plain": [
       "(438012, 12)"
      ]
     },
     "execution_count": 59,
     "metadata": {},
     "output_type": "execute_result"
    }
   ],
   "source": [
    "dfCheck.shape"
   ]
  },
  {
   "cell_type": "code",
   "execution_count": null,
   "id": "966189f0-a45b-40ff-9b41-dbec3870f99e",
   "metadata": {},
   "outputs": [],
   "source": []
  },
  {
   "cell_type": "markdown",
   "id": "f7a3cdfd-ce11-4723-b182-476cb4ddbb96",
   "metadata": {},
   "source": [
    "### Duplicates"
   ]
  },
  {
   "cell_type": "code",
   "execution_count": 61,
   "id": "8d530dc2",
   "metadata": {},
   "outputs": [
    {
     "data": {
      "text/plain": [
       "(381529, 12)"
      ]
     },
     "execution_count": 61,
     "metadata": {},
     "output_type": "execute_result"
    }
   ],
   "source": [
    "# Dropping duplicate rows where 'ShipVoyage', 'BaseDateTime', 'lON', and 'lAT' are the same\n",
    "dfCheck = dfCheck.drop_duplicates(subset=['ShipVoyage', 'BaseDateTime', 'LON', 'LAT'], keep='first')\n",
    "\n",
    "dfCheck.shape"
   ]
  },
  {
   "cell_type": "code",
   "execution_count": 63,
   "id": "147b0958",
   "metadata": {},
   "outputs": [
    {
     "name": "stdout",
     "output_type": "stream",
     "text": [
      "Number of unique voyages: 91\n"
     ]
    }
   ],
   "source": [
    "# Counting the number of unique voyages based on 'ShipVoyage'\n",
    "unique_voyages = dfCheck['ShipVoyage'].nunique()\n",
    "\n",
    "print(f\"Number of unique voyages: {unique_voyages}\")"
   ]
  },
  {
   "cell_type": "code",
   "execution_count": 65,
   "id": "3e7465b7",
   "metadata": {},
   "outputs": [
    {
     "data": {
      "text/html": [
       "<div>\n",
       "<style scoped>\n",
       "    .dataframe tbody tr th:only-of-type {\n",
       "        vertical-align: middle;\n",
       "    }\n",
       "\n",
       "    .dataframe tbody tr th {\n",
       "        vertical-align: top;\n",
       "    }\n",
       "\n",
       "    .dataframe thead th {\n",
       "        text-align: right;\n",
       "    }\n",
       "</style>\n",
       "<table border=\"1\" class=\"dataframe\">\n",
       "  <thead>\n",
       "    <tr style=\"text-align: right;\">\n",
       "      <th></th>\n",
       "      <th></th>\n",
       "      <th>BaseDateTime</th>\n",
       "      <th>LON</th>\n",
       "      <th>LAT</th>\n",
       "      <th>MMSI</th>\n",
       "      <th>Imo</th>\n",
       "      <th>Type</th>\n",
       "      <th>ETA</th>\n",
       "      <th>Destination</th>\n",
       "      <th>SOG</th>\n",
       "      <th>COG</th>\n",
       "      <th>ShipVoyage</th>\n",
       "      <th>RTD</th>\n",
       "    </tr>\n",
       "    <tr>\n",
       "      <th>ShipVoyage</th>\n",
       "      <th></th>\n",
       "      <th></th>\n",
       "      <th></th>\n",
       "      <th></th>\n",
       "      <th></th>\n",
       "      <th></th>\n",
       "      <th></th>\n",
       "      <th></th>\n",
       "      <th></th>\n",
       "      <th></th>\n",
       "      <th></th>\n",
       "      <th></th>\n",
       "      <th></th>\n",
       "    </tr>\n",
       "  </thead>\n",
       "  <tbody>\n",
       "    <tr>\n",
       "      <th rowspan=\"3\" valign=\"top\">209550000_0</th>\n",
       "      <th>0</th>\n",
       "      <td>2023-09-25 12:49:00</td>\n",
       "      <td>-7.689917</td>\n",
       "      <td>36.357050</td>\n",
       "      <td>209550000.0</td>\n",
       "      <td>9285990.0</td>\n",
       "      <td>70.0</td>\n",
       "      <td>2023-09-25 15:00:00</td>\n",
       "      <td>PTSines</td>\n",
       "      <td>16.8</td>\n",
       "      <td>288.0</td>\n",
       "      <td>209550000_0</td>\n",
       "      <td>203.485182</td>\n",
       "    </tr>\n",
       "    <tr>\n",
       "      <th>1</th>\n",
       "      <td>2023-09-25 12:49:02</td>\n",
       "      <td>-7.690650</td>\n",
       "      <td>36.357233</td>\n",
       "      <td>209550000.0</td>\n",
       "      <td>9285990.0</td>\n",
       "      <td>70.0</td>\n",
       "      <td>2023-09-25 15:00:00</td>\n",
       "      <td>PTSines</td>\n",
       "      <td>16.8</td>\n",
       "      <td>288.0</td>\n",
       "      <td>209550000_0</td>\n",
       "      <td>203.434578</td>\n",
       "    </tr>\n",
       "    <tr>\n",
       "      <th>2</th>\n",
       "      <td>2023-09-25 12:49:14</td>\n",
       "      <td>-7.691667</td>\n",
       "      <td>36.357500</td>\n",
       "      <td>209550000.0</td>\n",
       "      <td>9285990.0</td>\n",
       "      <td>70.0</td>\n",
       "      <td>2023-09-25 15:00:00</td>\n",
       "      <td>PTSines</td>\n",
       "      <td>16.8</td>\n",
       "      <td>288.0</td>\n",
       "      <td>209550000_0</td>\n",
       "      <td>203.363237</td>\n",
       "    </tr>\n",
       "  </tbody>\n",
       "</table>\n",
       "</div>"
      ],
      "text/plain": [
       "                     BaseDateTime       LON        LAT         MMSI  \\\n",
       "ShipVoyage                                                            \n",
       "209550000_0 0 2023-09-25 12:49:00 -7.689917  36.357050  209550000.0   \n",
       "            1 2023-09-25 12:49:02 -7.690650  36.357233  209550000.0   \n",
       "            2 2023-09-25 12:49:14 -7.691667  36.357500  209550000.0   \n",
       "\n",
       "                     Imo  Type                 ETA Destination   SOG    COG  \\\n",
       "ShipVoyage                                                                    \n",
       "209550000_0 0  9285990.0  70.0 2023-09-25 15:00:00     PTSines  16.8  288.0   \n",
       "            1  9285990.0  70.0 2023-09-25 15:00:00     PTSines  16.8  288.0   \n",
       "            2  9285990.0  70.0 2023-09-25 15:00:00     PTSines  16.8  288.0   \n",
       "\n",
       "                ShipVoyage         RTD  \n",
       "ShipVoyage                              \n",
       "209550000_0 0  209550000_0  203.485182  \n",
       "            1  209550000_0  203.434578  \n",
       "            2  209550000_0  203.363237  "
      ]
     },
     "execution_count": 65,
     "metadata": {},
     "output_type": "execute_result"
    }
   ],
   "source": [
    "dfCheck.head(3)"
   ]
  },
  {
   "cell_type": "code",
   "execution_count": null,
   "id": "5b12987b-bd2d-4893-9e4f-9b303aa7b323",
   "metadata": {},
   "outputs": [],
   "source": []
  },
  {
   "cell_type": "code",
   "execution_count": 67,
   "id": "6ef2326e",
   "metadata": {},
   "outputs": [],
   "source": [
    "# Saving to the csv\n",
    "dfCheck.to_csv(Clean_Data, index=False)"
   ]
  },
  {
   "cell_type": "code",
   "execution_count": null,
   "id": "35515b65-c720-4fad-b7c0-1ac41de17e9e",
   "metadata": {},
   "outputs": [],
   "source": []
  },
  {
   "cell_type": "markdown",
   "id": "6a26b3bd",
   "metadata": {},
   "source": [
    "## Selecting voyages"
   ]
  },
  {
   "cell_type": "code",
   "execution_count": 69,
   "id": "85ae4f00",
   "metadata": {},
   "outputs": [
    {
     "name": "stdout",
     "output_type": "stream",
     "text": [
      "Saved D:\\A TESE\\Modelo ML\\CSV\\voyages_splitted\\ShipVoyage_209550000_0.csv\n",
      "Saved D:\\A TESE\\Modelo ML\\CSV\\voyages_splitted\\ShipVoyage_209720000_0.csv\n",
      "Saved D:\\A TESE\\Modelo ML\\CSV\\voyages_splitted\\ShipVoyage_209917000_0.csv\n",
      "Saved D:\\A TESE\\Modelo ML\\CSV\\voyages_splitted\\ShipVoyage_236111906_1.csv\n",
      "Saved D:\\A TESE\\Modelo ML\\CSV\\voyages_splitted\\ShipVoyage_236111906_2.csv\n",
      "Saved D:\\A TESE\\Modelo ML\\CSV\\voyages_splitted\\ShipVoyage_236111906_3.csv\n",
      "Saved D:\\A TESE\\Modelo ML\\CSV\\voyages_splitted\\ShipVoyage_236111906_4.csv\n",
      "Saved D:\\A TESE\\Modelo ML\\CSV\\voyages_splitted\\ShipVoyage_236111906_6.csv\n",
      "Saved D:\\A TESE\\Modelo ML\\CSV\\voyages_splitted\\ShipVoyage_236111906_7.csv\n",
      "Saved D:\\A TESE\\Modelo ML\\CSV\\voyages_splitted\\ShipVoyage_236111906_8.csv\n",
      "Saved D:\\A TESE\\Modelo ML\\CSV\\voyages_splitted\\ShipVoyage_244129000_0.csv\n",
      "Saved D:\\A TESE\\Modelo ML\\CSV\\voyages_splitted\\ShipVoyage_244129000_1.csv\n",
      "Saved D:\\A TESE\\Modelo ML\\CSV\\voyages_splitted\\ShipVoyage_244379000_0.csv\n",
      "Saved D:\\A TESE\\Modelo ML\\CSV\\voyages_splitted\\ShipVoyage_244617000_0.csv\n",
      "Saved D:\\A TESE\\Modelo ML\\CSV\\voyages_splitted\\ShipVoyage_244790047_0.csv\n",
      "Saved D:\\A TESE\\Modelo ML\\CSV\\voyages_splitted\\ShipVoyage_246399000_0.csv\n",
      "Saved D:\\A TESE\\Modelo ML\\CSV\\voyages_splitted\\ShipVoyage_246651000_0.csv\n",
      "Saved D:\\A TESE\\Modelo ML\\CSV\\voyages_splitted\\ShipVoyage_246779000_0.csv\n",
      "Saved D:\\A TESE\\Modelo ML\\CSV\\voyages_splitted\\ShipVoyage_248089000_0.csv\n",
      "Saved D:\\A TESE\\Modelo ML\\CSV\\voyages_splitted\\ShipVoyage_253595000_0.csv\n",
      "Saved D:\\A TESE\\Modelo ML\\CSV\\voyages_splitted\\ShipVoyage_255792000_0.csv\n",
      "Saved D:\\A TESE\\Modelo ML\\CSV\\voyages_splitted\\ShipVoyage_255801770_0.csv\n",
      "Saved D:\\A TESE\\Modelo ML\\CSV\\voyages_splitted\\ShipVoyage_255801770_1.csv\n",
      "Saved D:\\A TESE\\Modelo ML\\CSV\\voyages_splitted\\ShipVoyage_255803480_0.csv\n",
      "Saved D:\\A TESE\\Modelo ML\\CSV\\voyages_splitted\\ShipVoyage_255805867_0.csv\n",
      "Saved D:\\A TESE\\Modelo ML\\CSV\\voyages_splitted\\ShipVoyage_255805891_0.csv\n",
      "Saved D:\\A TESE\\Modelo ML\\CSV\\voyages_splitted\\ShipVoyage_255806492_0.csv\n",
      "Saved D:\\A TESE\\Modelo ML\\CSV\\voyages_splitted\\ShipVoyage_255806492_1.csv\n",
      "Saved D:\\A TESE\\Modelo ML\\CSV\\voyages_splitted\\ShipVoyage_255915562_0.csv\n",
      "Saved D:\\A TESE\\Modelo ML\\CSV\\voyages_splitted\\ShipVoyage_304029000_0.csv\n",
      "Saved D:\\A TESE\\Modelo ML\\CSV\\voyages_splitted\\ShipVoyage_304029000_1.csv\n",
      "Saved D:\\A TESE\\Modelo ML\\CSV\\voyages_splitted\\ShipVoyage_304029000_2.csv\n",
      "Saved D:\\A TESE\\Modelo ML\\CSV\\voyages_splitted\\ShipVoyage_304029000_3.csv\n",
      "Saved D:\\A TESE\\Modelo ML\\CSV\\voyages_splitted\\ShipVoyage_304029000_4.csv\n",
      "Saved D:\\A TESE\\Modelo ML\\CSV\\voyages_splitted\\ShipVoyage_304029000_5.csv\n",
      "Saved D:\\A TESE\\Modelo ML\\CSV\\voyages_splitted\\ShipVoyage_304029000_6.csv\n",
      "Saved D:\\A TESE\\Modelo ML\\CSV\\voyages_splitted\\ShipVoyage_304029000_7.csv\n",
      "Saved D:\\A TESE\\Modelo ML\\CSV\\voyages_splitted\\ShipVoyage_314638000_1.csv\n",
      "Saved D:\\A TESE\\Modelo ML\\CSV\\voyages_splitted\\ShipVoyage_352002329_0.csv\n",
      "Saved D:\\A TESE\\Modelo ML\\CSV\\voyages_splitted\\ShipVoyage_353111000_0.csv\n",
      "Saved D:\\A TESE\\Modelo ML\\CSV\\voyages_splitted\\ShipVoyage_353111000_1.csv\n",
      "Saved D:\\A TESE\\Modelo ML\\CSV\\voyages_splitted\\ShipVoyage_353111000_2.csv\n",
      "Saved D:\\A TESE\\Modelo ML\\CSV\\voyages_splitted\\ShipVoyage_353111000_3.csv\n",
      "Saved D:\\A TESE\\Modelo ML\\CSV\\voyages_splitted\\ShipVoyage_353111000_4.csv\n",
      "Saved D:\\A TESE\\Modelo ML\\CSV\\voyages_splitted\\ShipVoyage_353289000_0.csv\n",
      "Saved D:\\A TESE\\Modelo ML\\CSV\\voyages_splitted\\ShipVoyage_354202000_0.csv\n",
      "Saved D:\\A TESE\\Modelo ML\\CSV\\voyages_splitted\\ShipVoyage_354202000_1.csv\n",
      "Saved D:\\A TESE\\Modelo ML\\CSV\\voyages_splitted\\ShipVoyage_355305000_0.csv\n",
      "Saved D:\\A TESE\\Modelo ML\\CSV\\voyages_splitted\\ShipVoyage_355305000_1.csv\n",
      "Saved D:\\A TESE\\Modelo ML\\CSV\\voyages_splitted\\ShipVoyage_356547000_1.csv\n",
      "Saved D:\\A TESE\\Modelo ML\\CSV\\voyages_splitted\\ShipVoyage_356547000_2.csv\n",
      "Saved D:\\A TESE\\Modelo ML\\CSV\\voyages_splitted\\ShipVoyage_370271000_1.csv\n",
      "Saved D:\\A TESE\\Modelo ML\\CSV\\voyages_splitted\\ShipVoyage_370271000_2.csv\n",
      "Saved D:\\A TESE\\Modelo ML\\CSV\\voyages_splitted\\ShipVoyage_370894000_0.csv\n",
      "Saved D:\\A TESE\\Modelo ML\\CSV\\voyages_splitted\\ShipVoyage_371908000_0.csv\n",
      "Saved D:\\A TESE\\Modelo ML\\CSV\\voyages_splitted\\ShipVoyage_374559000_0.csv\n",
      "Saved D:\\A TESE\\Modelo ML\\CSV\\voyages_splitted\\ShipVoyage_374559000_2.csv\n",
      "Saved D:\\A TESE\\Modelo ML\\CSV\\voyages_splitted\\ShipVoyage_374559000_4.csv\n",
      "Saved D:\\A TESE\\Modelo ML\\CSV\\voyages_splitted\\ShipVoyage_538005066_0.csv\n",
      "Saved D:\\A TESE\\Modelo ML\\CSV\\voyages_splitted\\ShipVoyage_538009837_0.csv\n",
      "Saved D:\\A TESE\\Modelo ML\\CSV\\voyages_splitted\\ShipVoyage_636016204_0.csv\n",
      "Saved D:\\A TESE\\Modelo ML\\CSV\\voyages_splitted\\ShipVoyage_636016204_1.csv\n",
      "Saved D:\\A TESE\\Modelo ML\\CSV\\voyages_splitted\\ShipVoyage_636016204_2.csv\n",
      "Saved D:\\A TESE\\Modelo ML\\CSV\\voyages_splitted\\ShipVoyage_636016204_3.csv\n",
      "Saved D:\\A TESE\\Modelo ML\\CSV\\voyages_splitted\\ShipVoyage_636016423_0.csv\n",
      "Saved D:\\A TESE\\Modelo ML\\CSV\\voyages_splitted\\ShipVoyage_636016999_0.csv\n",
      "Saved D:\\A TESE\\Modelo ML\\CSV\\voyages_splitted\\ShipVoyage_636017577_0.csv\n",
      "Saved D:\\A TESE\\Modelo ML\\CSV\\voyages_splitted\\ShipVoyage_636017577_1.csv\n",
      "Saved D:\\A TESE\\Modelo ML\\CSV\\voyages_splitted\\ShipVoyage_636018075_0.csv\n",
      "Saved D:\\A TESE\\Modelo ML\\CSV\\voyages_splitted\\ShipVoyage_636018320_0.csv\n",
      "Saved D:\\A TESE\\Modelo ML\\CSV\\voyages_splitted\\ShipVoyage_636018320_1.csv\n",
      "Saved D:\\A TESE\\Modelo ML\\CSV\\voyages_splitted\\ShipVoyage_636020898_0.csv\n",
      "Saved D:\\A TESE\\Modelo ML\\CSV\\voyages_splitted\\ShipVoyage_636020898_1.csv\n",
      "Saved D:\\A TESE\\Modelo ML\\CSV\\voyages_splitted\\ShipVoyage_636020898_2.csv\n",
      "Saved D:\\A TESE\\Modelo ML\\CSV\\voyages_splitted\\ShipVoyage_636020898_3.csv\n",
      "Saved D:\\A TESE\\Modelo ML\\CSV\\voyages_splitted\\ShipVoyage_636020898_4.csv\n",
      "Saved D:\\A TESE\\Modelo ML\\CSV\\voyages_splitted\\ShipVoyage_636020898_5.csv\n",
      "Saved D:\\A TESE\\Modelo ML\\CSV\\voyages_splitted\\ShipVoyage_636020898_6.csv\n",
      "Saved D:\\A TESE\\Modelo ML\\CSV\\voyages_splitted\\ShipVoyage_636021123_0.csv\n",
      "Saved D:\\A TESE\\Modelo ML\\CSV\\voyages_splitted\\ShipVoyage_636021123_1.csv\n",
      "Saved D:\\A TESE\\Modelo ML\\CSV\\voyages_splitted\\ShipVoyage_636021364_1.csv\n",
      "Saved D:\\A TESE\\Modelo ML\\CSV\\voyages_splitted\\ShipVoyage_636021770_0.csv\n",
      "Saved D:\\A TESE\\Modelo ML\\CSV\\voyages_splitted\\ShipVoyage_636022103_0.csv\n",
      "Saved D:\\A TESE\\Modelo ML\\CSV\\voyages_splitted\\ShipVoyage_636022103_2.csv\n",
      "Saved D:\\A TESE\\Modelo ML\\CSV\\voyages_splitted\\ShipVoyage_636022604_0.csv\n",
      "Saved D:\\A TESE\\Modelo ML\\CSV\\voyages_splitted\\ShipVoyage_636022604_1.csv\n",
      "Saved D:\\A TESE\\Modelo ML\\CSV\\voyages_splitted\\ShipVoyage_636022920_0.csv\n",
      "Saved D:\\A TESE\\Modelo ML\\CSV\\voyages_splitted\\ShipVoyage_636022920_1.csv\n",
      "Saved D:\\A TESE\\Modelo ML\\CSV\\voyages_splitted\\ShipVoyage_636022920_2.csv\n",
      "Saved D:\\A TESE\\Modelo ML\\CSV\\voyages_splitted\\ShipVoyage_636023185_0.csv\n",
      "Saved D:\\A TESE\\Modelo ML\\CSV\\voyages_splitted\\ShipVoyage_636023479_0.csv\n"
     ]
    },
    {
     "data": {
      "text/plain": [
       "'Total voyages split into separate CSV files: None'"
      ]
     },
     "metadata": {},
     "output_type": "display_data"
    }
   ],
   "source": [
    "# Splitting our Clean_Data into separated csv in order of 'ShipVoyage' feature\n",
    "voyages_split.main(Clean_Data,Voyages_un)"
   ]
  },
  {
   "cell_type": "code",
   "execution_count": 71,
   "id": "7ce0335d-b3a7-4625-a220-21919074c4b1",
   "metadata": {},
   "outputs": [
    {
     "name": "stdout",
     "output_type": "stream",
     "text": [
      "Total CSV files created: 91\n"
     ]
    }
   ],
   "source": [
    "# # Counting the number of CSV files\n",
    "csv_files = [f for f in os.listdir(Voyages_un) if f.endswith('.csv')]\n",
    "csv_count = len(csv_files)\n",
    "\n",
    "print(f\"Total CSV files created: {csv_count}\")"
   ]
  },
  {
   "cell_type": "code",
   "execution_count": null,
   "id": "c0a1d356-8305-40ea-bf20-3b622898c039",
   "metadata": {},
   "outputs": [],
   "source": []
  },
  {
   "cell_type": "markdown",
   "id": "663988aa-02be-4dda-a841-64eb5292f6dc",
   "metadata": {},
   "source": [
    "### Plotting finished and unfinished voyages"
   ]
  },
  {
   "cell_type": "code",
   "execution_count": 79,
   "id": "6f82ae9f-6575-4f10-a228-3a9a278c5dfb",
   "metadata": {},
   "outputs": [
    {
     "name": "stdout",
     "output_type": "stream",
     "text": [
      "Saved plot for ShipVoyage_209550000_0.csv to D:\\A TESE\\Modelo ML\\Plots\\finished_voyages\\ShipVoyage_209550000_0.png\n",
      "Saved plot for ShipVoyage_209720000_0.csv to D:\\A TESE\\Modelo ML\\Plots\\finished_voyages\\ShipVoyage_209720000_0.png\n",
      "Saved plot for ShipVoyage_209917000_0.csv to D:\\A TESE\\Modelo ML\\Plots\\finished_voyages\\ShipVoyage_209917000_0.png\n",
      "Saved plot for ShipVoyage_236111906_1.csv to D:\\A TESE\\Modelo ML\\Plots\\finished_voyages\\ShipVoyage_236111906_1.png\n",
      "Saved plot for ShipVoyage_236111906_2.csv to D:\\A TESE\\Modelo ML\\Plots\\unfinished_voyages\\ShipVoyage_236111906_2.png\n",
      "Saved plot for ShipVoyage_236111906_3.csv to D:\\A TESE\\Modelo ML\\Plots\\finished_voyages\\ShipVoyage_236111906_3.png\n",
      "Saved plot for ShipVoyage_236111906_4.csv to D:\\A TESE\\Modelo ML\\Plots\\finished_voyages\\ShipVoyage_236111906_4.png\n",
      "Saved plot for ShipVoyage_236111906_6.csv to D:\\A TESE\\Modelo ML\\Plots\\finished_voyages\\ShipVoyage_236111906_6.png\n",
      "Saved plot for ShipVoyage_236111906_7.csv to D:\\A TESE\\Modelo ML\\Plots\\finished_voyages\\ShipVoyage_236111906_7.png\n",
      "Saved plot for ShipVoyage_236111906_8.csv to D:\\A TESE\\Modelo ML\\Plots\\finished_voyages\\ShipVoyage_236111906_8.png\n",
      "Saved plot for ShipVoyage_244129000_0.csv to D:\\A TESE\\Modelo ML\\Plots\\finished_voyages\\ShipVoyage_244129000_0.png\n",
      "Saved plot for ShipVoyage_244129000_1.csv to D:\\A TESE\\Modelo ML\\Plots\\finished_voyages\\ShipVoyage_244129000_1.png\n",
      "Saved plot for ShipVoyage_244379000_0.csv to D:\\A TESE\\Modelo ML\\Plots\\finished_voyages\\ShipVoyage_244379000_0.png\n",
      "Saved plot for ShipVoyage_244617000_0.csv to D:\\A TESE\\Modelo ML\\Plots\\finished_voyages\\ShipVoyage_244617000_0.png\n",
      "Saved plot for ShipVoyage_244790047_0.csv to D:\\A TESE\\Modelo ML\\Plots\\finished_voyages\\ShipVoyage_244790047_0.png\n",
      "Saved plot for ShipVoyage_246399000_0.csv to D:\\A TESE\\Modelo ML\\Plots\\finished_voyages\\ShipVoyage_246399000_0.png\n",
      "Saved plot for ShipVoyage_246651000_0.csv to D:\\A TESE\\Modelo ML\\Plots\\finished_voyages\\ShipVoyage_246651000_0.png\n",
      "Saved plot for ShipVoyage_246779000_0.csv to D:\\A TESE\\Modelo ML\\Plots\\finished_voyages\\ShipVoyage_246779000_0.png\n",
      "Saved plot for ShipVoyage_248089000_0.csv to D:\\A TESE\\Modelo ML\\Plots\\finished_voyages\\ShipVoyage_248089000_0.png\n",
      "Saved plot for ShipVoyage_253595000_0.csv to D:\\A TESE\\Modelo ML\\Plots\\finished_voyages\\ShipVoyage_253595000_0.png\n",
      "Saved plot for ShipVoyage_255792000_0.csv to D:\\A TESE\\Modelo ML\\Plots\\finished_voyages\\ShipVoyage_255792000_0.png\n",
      "Saved plot for ShipVoyage_255801770_0.csv to D:\\A TESE\\Modelo ML\\Plots\\finished_voyages\\ShipVoyage_255801770_0.png\n",
      "Saved plot for ShipVoyage_255801770_1.csv to D:\\A TESE\\Modelo ML\\Plots\\finished_voyages\\ShipVoyage_255801770_1.png\n",
      "Saved plot for ShipVoyage_255803480_0.csv to D:\\A TESE\\Modelo ML\\Plots\\finished_voyages\\ShipVoyage_255803480_0.png\n",
      "Saved plot for ShipVoyage_255805867_0.csv to D:\\A TESE\\Modelo ML\\Plots\\finished_voyages\\ShipVoyage_255805867_0.png\n",
      "Saved plot for ShipVoyage_255805891_0.csv to D:\\A TESE\\Modelo ML\\Plots\\finished_voyages\\ShipVoyage_255805891_0.png\n",
      "Saved plot for ShipVoyage_255806492_0.csv to D:\\A TESE\\Modelo ML\\Plots\\finished_voyages\\ShipVoyage_255806492_0.png\n",
      "Saved plot for ShipVoyage_255806492_1.csv to D:\\A TESE\\Modelo ML\\Plots\\finished_voyages\\ShipVoyage_255806492_1.png\n",
      "Saved plot for ShipVoyage_255915562_0.csv to D:\\A TESE\\Modelo ML\\Plots\\unfinished_voyages\\ShipVoyage_255915562_0.png\n",
      "Saved plot for ShipVoyage_304029000_0.csv to D:\\A TESE\\Modelo ML\\Plots\\finished_voyages\\ShipVoyage_304029000_0.png\n",
      "Saved plot for ShipVoyage_304029000_1.csv to D:\\A TESE\\Modelo ML\\Plots\\finished_voyages\\ShipVoyage_304029000_1.png\n",
      "Saved plot for ShipVoyage_304029000_2.csv to D:\\A TESE\\Modelo ML\\Plots\\finished_voyages\\ShipVoyage_304029000_2.png\n",
      "Saved plot for ShipVoyage_304029000_3.csv to D:\\A TESE\\Modelo ML\\Plots\\unfinished_voyages\\ShipVoyage_304029000_3.png\n",
      "Saved plot for ShipVoyage_304029000_4.csv to D:\\A TESE\\Modelo ML\\Plots\\unfinished_voyages\\ShipVoyage_304029000_4.png\n",
      "Saved plot for ShipVoyage_304029000_5.csv to D:\\A TESE\\Modelo ML\\Plots\\unfinished_voyages\\ShipVoyage_304029000_5.png\n",
      "Saved plot for ShipVoyage_304029000_6.csv to D:\\A TESE\\Modelo ML\\Plots\\unfinished_voyages\\ShipVoyage_304029000_6.png\n",
      "Saved plot for ShipVoyage_304029000_7.csv to D:\\A TESE\\Modelo ML\\Plots\\unfinished_voyages\\ShipVoyage_304029000_7.png\n",
      "Saved plot for ShipVoyage_314638000_1.csv to D:\\A TESE\\Modelo ML\\Plots\\finished_voyages\\ShipVoyage_314638000_1.png\n",
      "Saved plot for ShipVoyage_352002329_0.csv to D:\\A TESE\\Modelo ML\\Plots\\unfinished_voyages\\ShipVoyage_352002329_0.png\n",
      "Saved plot for ShipVoyage_353111000_0.csv to D:\\A TESE\\Modelo ML\\Plots\\finished_voyages\\ShipVoyage_353111000_0.png\n",
      "Saved plot for ShipVoyage_353111000_1.csv to D:\\A TESE\\Modelo ML\\Plots\\finished_voyages\\ShipVoyage_353111000_1.png\n",
      "Saved plot for ShipVoyage_353111000_2.csv to D:\\A TESE\\Modelo ML\\Plots\\finished_voyages\\ShipVoyage_353111000_2.png\n",
      "Saved plot for ShipVoyage_353111000_3.csv to D:\\A TESE\\Modelo ML\\Plots\\finished_voyages\\ShipVoyage_353111000_3.png\n",
      "Saved plot for ShipVoyage_353111000_4.csv to D:\\A TESE\\Modelo ML\\Plots\\finished_voyages\\ShipVoyage_353111000_4.png\n",
      "Saved plot for ShipVoyage_353289000_0.csv to D:\\A TESE\\Modelo ML\\Plots\\unfinished_voyages\\ShipVoyage_353289000_0.png\n",
      "Saved plot for ShipVoyage_354202000_0.csv to D:\\A TESE\\Modelo ML\\Plots\\finished_voyages\\ShipVoyage_354202000_0.png\n",
      "Saved plot for ShipVoyage_354202000_1.csv to D:\\A TESE\\Modelo ML\\Plots\\finished_voyages\\ShipVoyage_354202000_1.png\n",
      "Saved plot for ShipVoyage_355305000_0.csv to D:\\A TESE\\Modelo ML\\Plots\\finished_voyages\\ShipVoyage_355305000_0.png\n",
      "Saved plot for ShipVoyage_355305000_1.csv to D:\\A TESE\\Modelo ML\\Plots\\finished_voyages\\ShipVoyage_355305000_1.png\n",
      "Saved plot for ShipVoyage_356547000_1.csv to D:\\A TESE\\Modelo ML\\Plots\\finished_voyages\\ShipVoyage_356547000_1.png\n",
      "Saved plot for ShipVoyage_356547000_2.csv to D:\\A TESE\\Modelo ML\\Plots\\unfinished_voyages\\ShipVoyage_356547000_2.png\n",
      "Saved plot for ShipVoyage_370271000_1.csv to D:\\A TESE\\Modelo ML\\Plots\\finished_voyages\\ShipVoyage_370271000_1.png\n",
      "Saved plot for ShipVoyage_370271000_2.csv to D:\\A TESE\\Modelo ML\\Plots\\finished_voyages\\ShipVoyage_370271000_2.png\n",
      "Saved plot for ShipVoyage_370894000_0.csv to D:\\A TESE\\Modelo ML\\Plots\\finished_voyages\\ShipVoyage_370894000_0.png\n",
      "Saved plot for ShipVoyage_371908000_0.csv to D:\\A TESE\\Modelo ML\\Plots\\finished_voyages\\ShipVoyage_371908000_0.png\n",
      "Saved plot for ShipVoyage_374559000_0.csv to D:\\A TESE\\Modelo ML\\Plots\\unfinished_voyages\\ShipVoyage_374559000_0.png\n",
      "Saved plot for ShipVoyage_374559000_2.csv to D:\\A TESE\\Modelo ML\\Plots\\finished_voyages\\ShipVoyage_374559000_2.png\n",
      "Saved plot for ShipVoyage_374559000_4.csv to D:\\A TESE\\Modelo ML\\Plots\\unfinished_voyages\\ShipVoyage_374559000_4.png\n",
      "Saved plot for ShipVoyage_538005066_0.csv to D:\\A TESE\\Modelo ML\\Plots\\finished_voyages\\ShipVoyage_538005066_0.png\n",
      "Saved plot for ShipVoyage_538009837_0.csv to D:\\A TESE\\Modelo ML\\Plots\\finished_voyages\\ShipVoyage_538009837_0.png\n",
      "Saved plot for ShipVoyage_636016204_0.csv to D:\\A TESE\\Modelo ML\\Plots\\finished_voyages\\ShipVoyage_636016204_0.png\n",
      "Saved plot for ShipVoyage_636016204_1.csv to D:\\A TESE\\Modelo ML\\Plots\\finished_voyages\\ShipVoyage_636016204_1.png\n",
      "Saved plot for ShipVoyage_636016204_2.csv to D:\\A TESE\\Modelo ML\\Plots\\finished_voyages\\ShipVoyage_636016204_2.png\n",
      "Saved plot for ShipVoyage_636016204_3.csv to D:\\A TESE\\Modelo ML\\Plots\\finished_voyages\\ShipVoyage_636016204_3.png\n",
      "Saved plot for ShipVoyage_636016423_0.csv to D:\\A TESE\\Modelo ML\\Plots\\finished_voyages\\ShipVoyage_636016423_0.png\n",
      "Saved plot for ShipVoyage_636016999_0.csv to D:\\A TESE\\Modelo ML\\Plots\\finished_voyages\\ShipVoyage_636016999_0.png\n",
      "Saved plot for ShipVoyage_636017577_0.csv to D:\\A TESE\\Modelo ML\\Plots\\finished_voyages\\ShipVoyage_636017577_0.png\n",
      "Saved plot for ShipVoyage_636017577_1.csv to D:\\A TESE\\Modelo ML\\Plots\\unfinished_voyages\\ShipVoyage_636017577_1.png\n",
      "Saved plot for ShipVoyage_636018075_0.csv to D:\\A TESE\\Modelo ML\\Plots\\finished_voyages\\ShipVoyage_636018075_0.png\n",
      "Saved plot for ShipVoyage_636018320_0.csv to D:\\A TESE\\Modelo ML\\Plots\\finished_voyages\\ShipVoyage_636018320_0.png\n",
      "Saved plot for ShipVoyage_636018320_1.csv to D:\\A TESE\\Modelo ML\\Plots\\finished_voyages\\ShipVoyage_636018320_1.png\n",
      "Saved plot for ShipVoyage_636020898_0.csv to D:\\A TESE\\Modelo ML\\Plots\\finished_voyages\\ShipVoyage_636020898_0.png\n",
      "Saved plot for ShipVoyage_636020898_1.csv to D:\\A TESE\\Modelo ML\\Plots\\finished_voyages\\ShipVoyage_636020898_1.png\n",
      "Saved plot for ShipVoyage_636020898_2.csv to D:\\A TESE\\Modelo ML\\Plots\\finished_voyages\\ShipVoyage_636020898_2.png\n",
      "Saved plot for ShipVoyage_636020898_3.csv to D:\\A TESE\\Modelo ML\\Plots\\finished_voyages\\ShipVoyage_636020898_3.png\n",
      "Saved plot for ShipVoyage_636020898_4.csv to D:\\A TESE\\Modelo ML\\Plots\\finished_voyages\\ShipVoyage_636020898_4.png\n",
      "Saved plot for ShipVoyage_636020898_5.csv to D:\\A TESE\\Modelo ML\\Plots\\unfinished_voyages\\ShipVoyage_636020898_5.png\n",
      "Saved plot for ShipVoyage_636020898_6.csv to D:\\A TESE\\Modelo ML\\Plots\\finished_voyages\\ShipVoyage_636020898_6.png\n",
      "Saved plot for ShipVoyage_636021123_0.csv to D:\\A TESE\\Modelo ML\\Plots\\finished_voyages\\ShipVoyage_636021123_0.png\n",
      "Saved plot for ShipVoyage_636021123_1.csv to D:\\A TESE\\Modelo ML\\Plots\\finished_voyages\\ShipVoyage_636021123_1.png\n",
      "Saved plot for ShipVoyage_636021364_1.csv to D:\\A TESE\\Modelo ML\\Plots\\finished_voyages\\ShipVoyage_636021364_1.png\n",
      "Saved plot for ShipVoyage_636021770_0.csv to D:\\A TESE\\Modelo ML\\Plots\\finished_voyages\\ShipVoyage_636021770_0.png\n",
      "Saved plot for ShipVoyage_636022103_0.csv to D:\\A TESE\\Modelo ML\\Plots\\finished_voyages\\ShipVoyage_636022103_0.png\n",
      "Saved plot for ShipVoyage_636022103_2.csv to D:\\A TESE\\Modelo ML\\Plots\\finished_voyages\\ShipVoyage_636022103_2.png\n",
      "Saved plot for ShipVoyage_636022604_0.csv to D:\\A TESE\\Modelo ML\\Plots\\finished_voyages\\ShipVoyage_636022604_0.png\n",
      "Saved plot for ShipVoyage_636022604_1.csv to D:\\A TESE\\Modelo ML\\Plots\\finished_voyages\\ShipVoyage_636022604_1.png\n",
      "Saved plot for ShipVoyage_636022920_0.csv to D:\\A TESE\\Modelo ML\\Plots\\finished_voyages\\ShipVoyage_636022920_0.png\n",
      "Saved plot for ShipVoyage_636022920_1.csv to D:\\A TESE\\Modelo ML\\Plots\\finished_voyages\\ShipVoyage_636022920_1.png\n",
      "Saved plot for ShipVoyage_636022920_2.csv to D:\\A TESE\\Modelo ML\\Plots\\finished_voyages\\ShipVoyage_636022920_2.png\n",
      "Saved plot for ShipVoyage_636023185_0.csv to D:\\A TESE\\Modelo ML\\Plots\\finished_voyages\\ShipVoyage_636023185_0.png\n",
      "Saved plot for ShipVoyage_636023479_0.csv to D:\\A TESE\\Modelo ML\\Plots\\finished_voyages\\ShipVoyage_636023479_0.png\n"
     ]
    }
   ],
   "source": [
    "# Defining the Sines port coordinates (Latitude, Longitude)\n",
    "SINES_COORDS = [37.933896, -8.855063]\n",
    "RADIUS_THRESHOLD_KM_OUT = 57  # 57km radius threshold from SINES_COORDS, or 50km from 7km radius\n",
    "\n",
    "# Haversine function to calculate the distance between two lat/lon points\n",
    "def haversine(lat1, lon1, lat2, lon2):\n",
    "    R = 6371  # Earth radius in kilometers\n",
    "    lat1_rad, lon1_rad = radians(lat1), radians(lon1)\n",
    "    lat2_rad, lon2_rad = radians(lat2), radians(lon2)\n",
    "\n",
    "    dlat = lat2_rad - lat1_rad\n",
    "    dlon = lon2_rad - lon1_rad\n",
    "\n",
    "    a = sin(dlat / 2.0)**2 + cos(lat1_rad) * cos(lat2_rad) * sin(dlon / 2.0)**2\n",
    "    c = 2 * atan2(sqrt(a), sqrt(1 - a))\n",
    "\n",
    "    return R * c  # Return distance in kilometers\n",
    "\n",
    "# Checking and saving valid voyages, plotting them, and keeping their files\n",
    "def check_and_save_voyages(voyages_un_folder, voyages_reached_folder, voyages_out_folder, voyages_unfin_folder, plot_folder):\n",
    "    # Ensure the output folders exist\n",
    "    os.makedirs(voyages_reached_folder, exist_ok=True)\n",
    "    os.makedirs(voyages_out_folder, exist_ok=True)\n",
    "    os.makedirs(voyages_unfin_folder, exist_ok=True)\n",
    "    os.makedirs(plot_folder, exist_ok=True)\n",
    "\n",
    "    # Loading the world map to use in plots\n",
    "    world = gpd.read_file(gpd.datasets.get_path('naturalearth_lowres'))\n",
    "    europe = world[world['continent'] == 'Europe']\n",
    "\n",
    "    for file in os.listdir(voyages_un_folder):\n",
    "        if file.endswith('.csv'):\n",
    "            file_path = os.path.join(voyages_un_folder, file)\n",
    "            voyage_df = pd.read_csv(file_path)\n",
    "\n",
    "            # Calculate RTD (Remaining Distance to Destination) for each point in the voyage\n",
    "            voyage_df['Distance_to_Sines_km'] = voyage_df.apply(\n",
    "                lambda row: haversine(row['LAT'], row['LON'], SINES_COORDS[0], SINES_COORDS[1]), axis=1\n",
    "            )\n",
    "\n",
    "            # Check if any part of the voyage started OUTSIDE the 57 km radius\n",
    "            if (voyage_df['Distance_to_Sines_km'] > RADIUS_THRESHOLD_KM_OUT).any():\n",
    "                # Keep the voyage if there is any part outside the 57 km radius\n",
    "                destination_path = os.path.join(voyages_reached_folder, file)\n",
    "                voyage_df.to_csv(destination_path, index=False)\n",
    "                \n",
    "                # Plotting kept voyages and saving to Plot folder\n",
    "                plot_voyage(voyage_df, file, plot_folder, europe)\n",
    "            else:\n",
    "                # Save and plot voyages that do not meet the criteria\n",
    "                out_destination = os.path.join(voyages_out_folder, file)\n",
    "                voyage_df.to_csv(out_destination, index=False)\n",
    "                plot_voyage(voyage_df, file, voyages_unfin_folder, europe)\n",
    "\n",
    "# Plotting voyages and saving the plots with better zoom and circular legend\n",
    "def plot_voyage(voyage_df, file_name, output_folder, europe):\n",
    "    plt.figure(figsize=(10, 8))\n",
    "    ax = plt.gca()\n",
    "    europe.plot(ax=ax, color='lightgrey', edgecolor='black')\n",
    "    plt.plot(voyage_df['LON'], voyage_df['LAT'], marker='o', color='blue', label='Voyage Path', alpha=0.7)\n",
    "    \n",
    "    # Highlighting start and end points\n",
    "    plt.scatter(voyage_df['LON'].iloc[0], voyage_df['LAT'].iloc[0], color='green', label='Start', s=100)\n",
    "    plt.scatter(voyage_df['LON'].iloc[-1], voyage_df['LAT'].iloc[-1], color='red', label='End', s=100)\n",
    "\n",
    "    # Sines port and radius\n",
    "    plt.scatter(SINES_COORDS[1], SINES_COORDS[0], color='black', label='Sines Port', s=200, marker='x')\n",
    "    \n",
    "    # Plotting 7 km and 50 km radius circles\n",
    "    circle_7km = plt.Circle((SINES_COORDS[1], SINES_COORDS[0]), 0.063, color='r', fill=False, label='7 km Radius')\n",
    "    circle_50km = plt.Circle((SINES_COORDS[1], SINES_COORDS[0]), 0.45, color='b', fill=False, label='50 km Radius')\n",
    "    ax.add_patch(circle_7km)\n",
    "    ax.add_patch(circle_50km)\n",
    "\n",
    "    # Adjusting limits to ensure we zoom correctly around the voyage path and port\n",
    "    lon_min, lon_max = min(voyage_df['LON'].min(), SINES_COORDS[1] - 0.2), max(voyage_df['LON'].max(), SINES_COORDS[1] + 0.2)\n",
    "    lat_min, lat_max = min(voyage_df['LAT'].min(), SINES_COORDS[0] - 0.2), max(voyage_df['LAT'].max(), SINES_COORDS[0] + 0.2)\n",
    "    plt.xlim(lon_min, lon_max)\n",
    "    plt.ylim(lat_min, lat_max)\n",
    "\n",
    "    # Customizing the legend with circular markers\n",
    "    circle_legend_elements = [\n",
    "        Line2D([0], [0], color='r', marker='o', markersize=10, label='7 km Radius', linestyle='None'),\n",
    "        Line2D([0], [0], color='b', marker='o', markersize=10, label='50 km Radius', linestyle='None')\n",
    "    ]\n",
    "    \n",
    "    plt.title(f'Voyage Plot: {file_name}')\n",
    "    plt.xlabel('Longitude')\n",
    "    plt.ylabel('Latitude')\n",
    "\n",
    "    # Adding the custom legend with circular markers\n",
    "    plt.legend(handles=circle_legend_elements, loc='upper right')\n",
    "\n",
    "    # Saving the plot\n",
    "    output_path = os.path.join(output_folder, file_name.replace('.csv', '.png'))\n",
    "    plt.savefig(output_path)\n",
    "    plt.close()\n",
    "\n",
    "    print(f\"Saved plot for {file_name} to {output_path}\")\n",
    "\n",
    "# Calling the function to check, save, and plot voyages\n",
    "check_and_save_voyages(Voyages_un, Voyages_reach, Voyages_out, Voyages_unfin, Plots)\n"
   ]
  },
  {
   "cell_type": "code",
   "execution_count": 81,
   "id": "cd283bef-6c1c-4f17-bec8-0f9ded9b2b46",
   "metadata": {},
   "outputs": [
    {
     "name": "stdout",
     "output_type": "stream",
     "text": [
      "Total CSV files created: 80\n"
     ]
    }
   ],
   "source": [
    "# Verifying the number of CSV files\n",
    "csv_files = [f for f in os.listdir(Voyages_reach) if f.endswith('.csv')]\n",
    "csv_count = len(csv_files)\n",
    "\n",
    "print(f\"Total CSV files created: {csv_count}\")"
   ]
  },
  {
   "cell_type": "code",
   "execution_count": 83,
   "id": "ea5f5f82-fc29-4b30-b313-e0cc013c0be1",
   "metadata": {},
   "outputs": [
    {
     "name": "stdout",
     "output_type": "stream",
     "text": [
      "File 'ShipVoyage_370271000_1.csv' moved to D:\\A TESE\\Modelo ML\\CSV\\voyages_out\n"
     ]
    }
   ],
   "source": [
    "# ShipVoyage_370271000_1 have a strange and unique behaviour\n",
    "# It is not desirable that it counts for the model\n",
    "\n",
    "file_name = \"ShipVoyage_370271000_1.csv\"\n",
    "\n",
    "# Construct the full file paths\n",
    "source_file_path = os.path.join(Voyages_reach, file_name)\n",
    "destination_file_path = os.path.join(Voyages_out, file_name)\n",
    "\n",
    "# Move the file if it exists\n",
    "if os.path.exists(source_file_path):\n",
    "    shutil.move(source_file_path, destination_file_path)\n",
    "    print(f\"File '{file_name}' moved to {Voyages_out}\")\n",
    "else:\n",
    "    print(f\"File '{file_name}' not found in {Voyages_reach}\")"
   ]
  },
  {
   "cell_type": "code",
   "execution_count": 85,
   "id": "70ab430a-75ac-4db1-8592-cc639c570894",
   "metadata": {},
   "outputs": [
    {
     "name": "stdout",
     "output_type": "stream",
     "text": [
      "Total CSV files created: 79\n"
     ]
    }
   ],
   "source": [
    "# Verifying the number of CSV files\n",
    "csv_files = [f for f in os.listdir(Voyages_reach) if f.endswith('.csv')]\n",
    "csv_count = len(csv_files)\n",
    "\n",
    "print(f\"Total CSV files created: {csv_count}\")"
   ]
  },
  {
   "cell_type": "code",
   "execution_count": null,
   "id": "87cf01d1-fe76-4ca1-bfd2-6ea95ca16005",
   "metadata": {},
   "outputs": [],
   "source": []
  },
  {
   "cell_type": "markdown",
   "id": "4d62589e-acde-42e4-83d3-279c204b6049",
   "metadata": {},
   "source": [
    "### Creating RTT column"
   ]
  },
  {
   "cell_type": "code",
   "execution_count": 107,
   "id": "03555fba-3437-439f-afbe-629ac04a61dd",
   "metadata": {},
   "outputs": [
    {
     "name": "stdout",
     "output_type": "stream",
     "text": [
      "All voyages have been processed and updated.\n"
     ]
    }
   ],
   "source": [
    "# Processing each CSV file and calculating RTT (Remaining Travel Time)\n",
    "def process_voyage(file_path):\n",
    "    voyage_df = pd.read_csv(file_path)\n",
    "\n",
    "    # Ensuring that 'BaseDateTime' and 'ETA' is in datetime format\n",
    "    voyage_df['BaseDateTime'] = pd.to_datetime(voyage_df['BaseDateTime'], errors='coerce')\n",
    "    voyage_df['ETA'] = pd.to_datetime(voyage_df['ETA'], errors='coerce')\n",
    "\n",
    "    # Calculating RTT using RTD and SOG (treat SOG=0 as SOG=1)\n",
    "    # SOG is in knots; 1 knot = 1.852 kilometers/hour\n",
    "    voyage_df['RTT'] = voyage_df.apply(\n",
    "        lambda row: row['RTD'] / (max(row['SOG'], 1) * 1.852) if pd.notna(row['RTD']) else np.nan, axis=1\n",
    "    )\n",
    "\n",
    "    # Dropping the 'Distance_to_Sines_km' column if it exists\n",
    "    if 'Distance_to_Sines_km' in voyage_df.columns:\n",
    "        voyage_df = voyage_df.drop(columns=['Distance_to_Sines_km'])\n",
    "\n",
    "    return voyage_df\n",
    "\n",
    "# Directory containing the voyage CSV files\n",
    "Voyages_reach = \"D:\\\\A TESE\\\\Modelo ML\\\\CSV\\\\voyages_reached\"  # Update to your folder path if needed\n",
    "\n",
    "# Loop through all the CSV files and process each voyage\n",
    "for file in os.listdir(Voyages_reach):\n",
    "    if file.endswith('.csv'):\n",
    "        file_path = os.path.join(Voyages_reach, file)\n",
    "        voyage_df = process_voyage(file_path)\n",
    "        \n",
    "        # Save the processed voyage back to the same file\n",
    "        voyage_df.to_csv(file_path, index=False)\n",
    "        \n",
    "print(\"All voyages have been processed and updated.\")\n"
   ]
  },
  {
   "cell_type": "code",
   "execution_count": 109,
   "id": "46832995-4414-466c-8099-1cf6e3a4e95e",
   "metadata": {},
   "outputs": [],
   "source": [
    "merged_df = pd.DataFrame()\n",
    "\n",
    "# Loop through all CSV files in the folder and concatenate them into one DataFrame\n",
    "for file in os.listdir(Voyages_reach):\n",
    "    if file.endswith('.csv'):\n",
    "        file_path = os.path.join(Voyages_reach, file)\n",
    "        voyage_df = pd.read_csv(file_path)\n",
    "        merged_df = pd.concat([merged_df, voyage_df], ignore_index=True)"
   ]
  },
  {
   "cell_type": "code",
   "execution_count": 91,
   "id": "4d584024-911b-455b-8ee1-479987bbab66",
   "metadata": {},
   "outputs": [
    {
     "data": {
      "text/plain": [
       "(362586, 14)"
      ]
     },
     "execution_count": 91,
     "metadata": {},
     "output_type": "execute_result"
    }
   ],
   "source": [
    "merged_df.shape"
   ]
  },
  {
   "cell_type": "code",
   "execution_count": 111,
   "id": "a3679133-c382-4445-ba10-087576344a03",
   "metadata": {},
   "outputs": [
    {
     "data": {
      "text/html": [
       "<div>\n",
       "<style scoped>\n",
       "    .dataframe tbody tr th:only-of-type {\n",
       "        vertical-align: middle;\n",
       "    }\n",
       "\n",
       "    .dataframe tbody tr th {\n",
       "        vertical-align: top;\n",
       "    }\n",
       "\n",
       "    .dataframe thead th {\n",
       "        text-align: right;\n",
       "    }\n",
       "</style>\n",
       "<table border=\"1\" class=\"dataframe\">\n",
       "  <thead>\n",
       "    <tr style=\"text-align: right;\">\n",
       "      <th></th>\n",
       "      <th>BaseDateTime</th>\n",
       "      <th>LON</th>\n",
       "      <th>LAT</th>\n",
       "      <th>MMSI</th>\n",
       "      <th>Imo</th>\n",
       "      <th>Type</th>\n",
       "      <th>ETA</th>\n",
       "      <th>Destination</th>\n",
       "      <th>SOG</th>\n",
       "      <th>COG</th>\n",
       "      <th>ShipVoyage</th>\n",
       "      <th>RTD</th>\n",
       "      <th>RTT</th>\n",
       "    </tr>\n",
       "  </thead>\n",
       "  <tbody>\n",
       "    <tr>\n",
       "      <th>0</th>\n",
       "      <td>2023-09-25 12:49:00</td>\n",
       "      <td>-7.689917</td>\n",
       "      <td>36.357050</td>\n",
       "      <td>209550000.0</td>\n",
       "      <td>9285990.0</td>\n",
       "      <td>70.0</td>\n",
       "      <td>2023-09-25 15:00:00</td>\n",
       "      <td>PTSines</td>\n",
       "      <td>16.8</td>\n",
       "      <td>288.0</td>\n",
       "      <td>209550000_0</td>\n",
       "      <td>203.485182</td>\n",
       "      <td>6.540072</td>\n",
       "    </tr>\n",
       "    <tr>\n",
       "      <th>1</th>\n",
       "      <td>2023-09-25 12:49:02</td>\n",
       "      <td>-7.690650</td>\n",
       "      <td>36.357233</td>\n",
       "      <td>209550000.0</td>\n",
       "      <td>9285990.0</td>\n",
       "      <td>70.0</td>\n",
       "      <td>2023-09-25 15:00:00</td>\n",
       "      <td>PTSines</td>\n",
       "      <td>16.8</td>\n",
       "      <td>288.0</td>\n",
       "      <td>209550000_0</td>\n",
       "      <td>203.434578</td>\n",
       "      <td>6.538445</td>\n",
       "    </tr>\n",
       "    <tr>\n",
       "      <th>2</th>\n",
       "      <td>2023-09-25 12:49:14</td>\n",
       "      <td>-7.691667</td>\n",
       "      <td>36.357500</td>\n",
       "      <td>209550000.0</td>\n",
       "      <td>9285990.0</td>\n",
       "      <td>70.0</td>\n",
       "      <td>2023-09-25 15:00:00</td>\n",
       "      <td>PTSines</td>\n",
       "      <td>16.8</td>\n",
       "      <td>288.0</td>\n",
       "      <td>209550000_0</td>\n",
       "      <td>203.363237</td>\n",
       "      <td>6.536153</td>\n",
       "    </tr>\n",
       "    <tr>\n",
       "      <th>3</th>\n",
       "      <td>2023-09-25 12:49:20</td>\n",
       "      <td>-7.692200</td>\n",
       "      <td>36.357650</td>\n",
       "      <td>209550000.0</td>\n",
       "      <td>9285990.0</td>\n",
       "      <td>70.0</td>\n",
       "      <td>2023-09-25 15:00:00</td>\n",
       "      <td>PTSines</td>\n",
       "      <td>16.8</td>\n",
       "      <td>288.0</td>\n",
       "      <td>209550000_0</td>\n",
       "      <td>203.324848</td>\n",
       "      <td>6.534919</td>\n",
       "    </tr>\n",
       "    <tr>\n",
       "      <th>4</th>\n",
       "      <td>2023-09-25 12:49:32</td>\n",
       "      <td>-7.693300</td>\n",
       "      <td>36.357950</td>\n",
       "      <td>209550000.0</td>\n",
       "      <td>9285990.0</td>\n",
       "      <td>70.0</td>\n",
       "      <td>2023-09-25 15:00:00</td>\n",
       "      <td>PTSines</td>\n",
       "      <td>16.8</td>\n",
       "      <td>288.0</td>\n",
       "      <td>209550000_0</td>\n",
       "      <td>203.246588</td>\n",
       "      <td>6.532403</td>\n",
       "    </tr>\n",
       "  </tbody>\n",
       "</table>\n",
       "</div>"
      ],
      "text/plain": [
       "          BaseDateTime       LON        LAT         MMSI        Imo  Type  \\\n",
       "0  2023-09-25 12:49:00 -7.689917  36.357050  209550000.0  9285990.0  70.0   \n",
       "1  2023-09-25 12:49:02 -7.690650  36.357233  209550000.0  9285990.0  70.0   \n",
       "2  2023-09-25 12:49:14 -7.691667  36.357500  209550000.0  9285990.0  70.0   \n",
       "3  2023-09-25 12:49:20 -7.692200  36.357650  209550000.0  9285990.0  70.0   \n",
       "4  2023-09-25 12:49:32 -7.693300  36.357950  209550000.0  9285990.0  70.0   \n",
       "\n",
       "                   ETA Destination   SOG    COG   ShipVoyage         RTD  \\\n",
       "0  2023-09-25 15:00:00     PTSines  16.8  288.0  209550000_0  203.485182   \n",
       "1  2023-09-25 15:00:00     PTSines  16.8  288.0  209550000_0  203.434578   \n",
       "2  2023-09-25 15:00:00     PTSines  16.8  288.0  209550000_0  203.363237   \n",
       "3  2023-09-25 15:00:00     PTSines  16.8  288.0  209550000_0  203.324848   \n",
       "4  2023-09-25 15:00:00     PTSines  16.8  288.0  209550000_0  203.246588   \n",
       "\n",
       "        RTT  \n",
       "0  6.540072  \n",
       "1  6.538445  \n",
       "2  6.536153  \n",
       "3  6.534919  \n",
       "4  6.532403  "
      ]
     },
     "execution_count": 111,
     "metadata": {},
     "output_type": "execute_result"
    }
   ],
   "source": [
    "merged_df.head()"
   ]
  },
  {
   "cell_type": "code",
   "execution_count": 113,
   "id": "9c796fc7-5ad8-44ec-8443-7bbaa8cc61c6",
   "metadata": {},
   "outputs": [
    {
     "name": "stdout",
     "output_type": "stream",
     "text": [
      "BaseDateTime    0\n",
      "LON             0\n",
      "LAT             0\n",
      "MMSI            0\n",
      "Imo             0\n",
      "Type            0\n",
      "ETA             0\n",
      "Destination     0\n",
      "SOG             0\n",
      "COG             0\n",
      "ShipVoyage      0\n",
      "RTD             0\n",
      "RTT             0\n",
      "dtype: int64\n"
     ]
    }
   ],
   "source": [
    "null_summary = merged_df.isnull().sum()\n",
    "print(null_summary)"
   ]
  },
  {
   "cell_type": "code",
   "execution_count": null,
   "id": "e4cb5af0-549b-4e48-ab6c-8315278f9f6d",
   "metadata": {},
   "outputs": [],
   "source": []
  },
  {
   "cell_type": "markdown",
   "id": "eafc0885-dd3b-4020-9f4b-284c42820aa7",
   "metadata": {},
   "source": [
    "## Outliers"
   ]
  },
  {
   "cell_type": "code",
   "execution_count": 135,
   "id": "550e8494-06eb-4afa-afd3-bce2f51b6c30",
   "metadata": {},
   "outputs": [
    {
     "name": "stdout",
     "output_type": "stream",
     "text": [
      "Top 6 longest voyages:\n",
      "236111906_4: 1 days, 21 hours, 58 minutes, 58 seconds\n",
      "236111906_6: 1 days, 20 hours, 32 minutes, 59 seconds\n",
      "236111906_7: 1 days, 19 hours, 55 minutes, 45 seconds\n",
      "255805867_0: 1 days, 15 hours, 17 minutes, 30 seconds\n",
      "636022103_2: 1 days, 10 hours, 21 minutes, 38 seconds\n",
      "255792000_0: 1 days, 9 hours, 13 minutes, 35 seconds\n",
      "\n",
      "Bottom 6 shortest voyages:\n",
      "246779000_0: 0 days, 4 hours, 4 minutes, 26 seconds\n",
      "314638000_1: 0 days, 3 hours, 44 minutes, 10 seconds\n",
      "255801770_0: 0 days, 3 hours, 43 minutes, 57 seconds\n",
      "255915562_0: 0 days, 3 hours, 19 minutes, 49 seconds\n",
      "246399000_0: 0 days, 2 hours, 47 minutes, 1 seconds\n",
      "636020898_6: 0 days, 2 hours, 44 minutes, 54 seconds\n",
      "\n",
      "Median time difference: 0 days, 12 hours, 1 minutes, 8 seconds\n",
      "\n",
      "Average voyage duration: 14.59 hours\n"
     ]
    }
   ],
   "source": [
    "# Ensuring that 'BaseDateTime'and 'ETA' are in datetime format\n",
    "merged_df['BaseDateTime'] = pd.to_datetime(merged_df['BaseDateTime'], errors='coerce')\n",
    "merged_df['ETA'] = pd.to_datetime(merged_df['ETA'], errors='coerce')\n",
    "\n",
    "# Calculating the time difference between the first and last row for each voyage\n",
    "def calculate_time_difference_voyage(voyage_df):\n",
    "    \"\"\"Calculate the time difference between the first and last rows of a voyage.\"\"\"\n",
    "    time_diff = voyage_df['BaseDateTime'].max() - voyage_df['BaseDateTime'].min()\n",
    "    return time_diff\n",
    "\n",
    "# Formating timedelta to days, hours, minutes, and seconds\n",
    "def format_timedelta(td):\n",
    "    \"\"\"Format timedelta to days, hours, minutes, and seconds.\"\"\"\n",
    "    days = td.days\n",
    "    seconds = td.seconds\n",
    "    hours = seconds // 3600\n",
    "    minutes = (seconds % 3600) // 60\n",
    "    seconds = seconds % 60\n",
    "    return f\"{days} days, {hours} hours, {minutes} minutes, {seconds} seconds\"\n",
    "\n",
    "# Processing the voyages in merged_df based on 'ShipVoyage'\n",
    "def process_merged_voyages(merged_df):\n",
    "    \"\"\"Process voyages in the merged dataframe and return top 6 and bottom 6 based on time difference.\"\"\"\n",
    "    time_differences = []\n",
    "    \n",
    "    # Group the voyages by 'ShipVoyage' and calculate the time difference\n",
    "    for voyage_id, voyage_data in merged_df.groupby('ShipVoyage'):\n",
    "        time_diff = calculate_time_difference_voyage(voyage_data)\n",
    "        time_differences.append((voyage_id, time_diff))\n",
    "    \n",
    "    # Sorting voyages by time difference\n",
    "    time_differences.sort(key=lambda x: x[1], reverse=True)\n",
    "    \n",
    "    # Displaying the top 6 longest voyages\n",
    "    print(\"Top 6 longest voyages:\")\n",
    "    for voyage_id, time_diff in time_differences[:6]:\n",
    "        print(f\"{voyage_id}: {format_timedelta(time_diff)}\")\n",
    "    \n",
    "    # Displaying the bottom 6 shortest voyages\n",
    "    print(\"\\nBottom 6 shortest voyages:\")\n",
    "    for voyage_id, time_diff in time_differences[-6:]:\n",
    "        print(f\"{voyage_id}: {format_timedelta(time_diff)}\")\n",
    "    \n",
    "    # Calculating and displaying the median time difference\n",
    "    median_diff = pd.Series([td.total_seconds() for _, td in time_differences]).median()\n",
    "    median_diff_timedelta = pd.to_timedelta(median_diff, unit='s')\n",
    "    print(f\"\\nMedian time difference: {format_timedelta(median_diff_timedelta)}\")\n",
    "\n",
    "    return time_differences\n",
    "\n",
    "# Calculating average voyage duration in hours\n",
    "def calculate_average_duration_hours(time_differences):\n",
    "    \"\"\"Calculate the average voyage duration in hours.\"\"\"\n",
    "    if len(time_differences) == 0:\n",
    "        return 0\n",
    "    \n",
    "    total_duration_seconds = sum([td.total_seconds() for _, td in time_differences])\n",
    "    average_duration_hours = (total_duration_seconds / len(time_differences)) / 3600\n",
    "    \n",
    "    return average_duration_hours\n",
    "\n",
    "# Processing voyages from merged_df\n",
    "time_differences = process_merged_voyages(merged_df)\n",
    "\n",
    "# Calculating and displaying the average voyage duration in hours\n",
    "average_duration_hours = calculate_average_duration_hours(time_differences)\n",
    "print(f\"\\nAverage voyage duration: {average_duration_hours:.2f} hours\")"
   ]
  },
  {
   "cell_type": "code",
   "execution_count": 119,
   "id": "29a66a49-fc23-43cd-8efa-97f2dd9eadf3",
   "metadata": {},
   "outputs": [
    {
     "name": "stdout",
     "output_type": "stream",
     "text": [
      "Outliers based on voyage durations:\n",
      "                   Voyage_File  Duration_Hours\n",
      "5   ShipVoyage_236111906_4.csv       45.982778\n",
      "6   ShipVoyage_236111906_6.csv       44.549722\n",
      "7   ShipVoyage_236111906_7.csv       43.929167\n",
      "19  ShipVoyage_255792000_0.csv       33.226389\n",
      "23  ShipVoyage_255805867_0.csv       39.291667\n",
      "71  ShipVoyage_636022103_2.csv       34.360556\n"
     ]
    },
    {
     "data": {
      "image/png": "[encoded data removed]",
      "text/plain": [
       "<Figure size 1200x800 with 1 Axes>"
      ]
     },
     "metadata": {},
     "output_type": "display_data"
    }
   ],
   "source": [
    "# Plotting the outliers\n",
    "def calculate_time_difference(file_path):\n",
    "    \"\"\"Calculate the time difference between the first and last BaseDateTime in a voyage file.\"\"\"\n",
    "    voyage_df = pd.read_csv(file_path)\n",
    "    voyage_df['BaseDateTime'] = pd.to_datetime(voyage_df['BaseDateTime'])\n",
    "    first_time = voyage_df['BaseDateTime'].min()\n",
    "    last_time = voyage_df['BaseDateTime'].max()\n",
    "    return (last_time - first_time).total_seconds() / 3600  # Return difference in hours\n",
    "\n",
    "def detect_outliers_iqr(time_differences):\n",
    "    \"\"\"Detect outliers using the IQR method.\"\"\"\n",
    "    Q1 = time_differences.quantile(0.25)\n",
    "    Q3 = time_differences.quantile(0.75)\n",
    "    IQR = Q3 - Q1\n",
    "\n",
    "    lower_bound = Q1 - 1.5 * IQR\n",
    "    upper_bound = Q3 + 1.5 * IQR\n",
    "\n",
    "    return time_differences[(time_differences < lower_bound) | (time_differences > upper_bound)]\n",
    "\n",
    "# Folder with voyage CSV files\n",
    "Voyages_reach = \"D:\\\\A TESE\\\\Modelo ML\\\\CSV\\\\voyages_reached\"\n",
    "\n",
    "# List to store the voyage file name and time difference\n",
    "voyage_differences = []\n",
    "\n",
    "# Loop through all the CSV files in the folder\n",
    "for file in os.listdir(Voyages_reach):\n",
    "    if file.endswith('.csv'):\n",
    "        file_path = os.path.join(Voyages_reach, file)\n",
    "        time_diff_hours = calculate_time_difference(file_path)\n",
    "        voyage_differences.append((file, time_diff_hours))\n",
    "\n",
    "# Creating a DataFrame with the results\n",
    "voyage_df = pd.DataFrame(voyage_differences, columns=['Voyage_File', 'Duration_Hours'])\n",
    "\n",
    "# Detecting outliers using IQR\n",
    "outliers = detect_outliers_iqr(voyage_df['Duration_Hours'])\n",
    "\n",
    "# Printing the outliers\n",
    "print(\"Outliers based on voyage durations:\")\n",
    "print(voyage_df[voyage_df['Duration_Hours'].isin(outliers)])\n",
    "\n",
    "# Plotting the outliers (boxplot)\n",
    "sns.boxplot(x=voyage_df['Duration_Hours'])\n",
    "plt.title('Boxplot of Voyage Durations')\n",
    "plt.show()"
   ]
  },
  {
   "cell_type": "code",
   "execution_count": 129,
   "id": "c8a2fb05-a4c0-4b94-86a5-091fb05ba300",
   "metadata": {},
   "outputs": [
    {
     "name": "stdout",
     "output_type": "stream",
     "text": [
      "Voyage 236111906_4 entered the 50 km radius at: 2023-08-04 21:13:08\n",
      "Voyage 236111906_4 exited the 50 km radius at: 2023-08-06 13:57:13\n",
      "Voyage 236111906_4 stayed within 50 km radius for: 1 days 16:44:05\n",
      "Voyage 236111906_6 entered the 50 km radius at: 2023-08-24 03:08:31\n",
      "Voyage 236111906_6 exited the 50 km radius at: 2023-08-25 14:05:17\n",
      "Voyage 236111906_6 stayed within 50 km radius for: 1 days 10:56:46\n",
      "Voyage 236111906_7 entered the 50 km radius at: 2023-09-14 18:54:24\n",
      "Voyage 236111906_7 exited the 50 km radius at: 2023-09-16 08:32:30\n",
      "Voyage 236111906_7 stayed within 50 km radius for: 1 days 13:38:06\n",
      "Voyage 255792000_0 entered the 50 km radius at: 2023-07-20 13:36:07\n",
      "Voyage 255792000_0 exited the 50 km radius at: 2023-07-20 17:19:38\n",
      "Voyage 255792000_0 stayed within 50 km radius for: 0 days 03:43:31\n",
      "Voyage 255805867_0 entered the 50 km radius at: 2023-08-02 01:29:52\n",
      "Voyage 255805867_0 exited the 50 km radius at: 2023-08-03 09:22:29\n",
      "Voyage 255805867_0 stayed within 50 km radius for: 1 days 07:52:37\n",
      "Voyage 636022103_2 entered the 50 km radius at: 2024-02-06 13:35:38\n",
      "Voyage 636022103_2 exited the 50 km radius at: 2024-02-07 03:39:37\n",
      "Voyage 636022103_2 stayed within 50 km radius for: 0 days 14:03:59\n"
     ]
    }
   ],
   "source": [
    "# Checking how many time the outliers spent in the area around the port\n",
    "# Depending on this we keep or not\n",
    "\n",
    "# Sines port coordinates (center of the circle)\n",
    "Sines_coords = [37.933896, -8.855063]\n",
    "radius_km = 57  # 57 km radius\n",
    "\n",
    "# List of outlier voyages based on previous analysis\n",
    "outlier_voyages = [\n",
    "    '236111906_4', '236111906_6', '236111906_7', \n",
    "    '255792000_0', '255805867_0', '636022103_2'    \n",
    "]\n",
    "\n",
    "# Loop through the outlier voyages and calculate the time spent within the 50 km radius\n",
    "for voyage_id in outlier_voyages:    \n",
    "    voyage_df = merged_df[merged_df['ShipVoyage'] == voyage_id]\n",
    "    \n",
    "    voyage_df['Distance_to_Sines_km'] = voyage_df.apply(\n",
    "        lambda row: haversine(row['LAT'], row['LON'], Sines_coords[0], Sines_coords[1]), axis=1\n",
    "    )\n",
    "\n",
    "    # Filtering the points within the 50 km radius\n",
    "    within_radius_df = voyage_df[voyage_df['Distance_to_Sines_km'] <= radius_km]\n",
    "\n",
    "    # Checking if there are any points within the 50 km radius\n",
    "    if not within_radius_df.empty:        \n",
    "        entry_timestamp = within_radius_df['BaseDateTime'].min()\n",
    "        exit_timestamp = within_radius_df['BaseDateTime'].max()\n",
    "\n",
    "        # Calculating the time difference between the first and last points within the radius\n",
    "        duration_within_radius = exit_timestamp - entry_timestamp\n",
    "       \n",
    "        print(f\"Voyage {voyage_id} entered the 50 km radius at: {entry_timestamp}\")\n",
    "        print(f\"Voyage {voyage_id} exited the 50 km radius at: {exit_timestamp}\")\n",
    "        print(f\"Voyage {voyage_id} stayed within 50 km radius for: {duration_within_radius}\")\n",
    "    else:\n",
    "        print(f\"Voyage {voyage_id} had no points within the 50 km radius.\")"
   ]
  },
  {
   "cell_type": "code",
   "execution_count": 293,
   "id": "d77968d2-9166-4c45-a342-ff9d69f88f2b",
   "metadata": {},
   "outputs": [
    {
     "name": "stdout",
     "output_type": "stream",
     "text": [
      "Original shape: (362586, 13)\n",
      "Filtered shape: (362586, 13)\n",
      "File ShipVoyage_236111906_4.csv not found in Voyages_reach.\n",
      "File ShipVoyage_236111906_6.csv not found in Voyages_reach.\n",
      "File ShipVoyage_236111906_7.csv not found in Voyages_reach.\n",
      "File ShipVoyage_255805867_0.csv not found in Voyages_reach.\n"
     ]
    }
   ],
   "source": [
    "# List of voyages to exclude\n",
    "excluded_voyages = ['ShipVoyage_236111906_4', 'ShipVoyage_236111906_6', 'ShipVoyage_236111906_7','ShipVoyage_255805867_0']\n",
    "\n",
    "# Filtering the merged_df to exclude the voyages\n",
    "dfToEDA_filt = merged_df[~merged_df['ShipVoyage'].isin(excluded_voyages)]\n",
    "\n",
    "# Displaying the shape of the filtered DataFrame to confirm the changes\n",
    "print(f\"Original shape: {merged_df.shape}\")\n",
    "print(f\"Filtered shape: {dfToEDA_filt.shape}\")\n",
    "\n",
    "# Moving their corresponding CSV files\n",
    "for voyage in excluded_voyages:\n",
    "    file_name = f\"{voyage}.csv\"\n",
    "    src_path = os.path.join(Voyages_reach, file_name)\n",
    "    dest_path = os.path.join(Voyages_excl, file_name)\n",
    "   \n",
    "    if os.path.exists(src_path):\n",
    "        shutil.move(src_path, dest_path)\n",
    "        print(f\"Moved {file_name} from Voyages_reach to Voyages_excl\")\n",
    "    else:\n",
    "        print(f\"File {file_name} not found in Voyages_reach.\")\n",
    "\n",
    "dfToEDA = dfToEDA_filt"
   ]
  },
  {
   "cell_type": "code",
   "execution_count": 297,
   "id": "07e9bc60-ba38-480e-abfb-a4b6b2b0c407",
   "metadata": {},
   "outputs": [
    {
     "name": "stdout",
     "output_type": "stream",
     "text": [
      "Filtered shape after exclusion: (304425, 13)\n",
      "Excluded voyages have been removed from dfToEDA.\n"
     ]
    }
   ],
   "source": [
    "# List of voyages to exclude\n",
    "excluded_voyages = ['236111906_4', '236111906_6', '236111906_7', '255805867_0']\n",
    "\n",
    "# Now, filter the dfToEDA to exclude the voyages\n",
    "dfToEDA_filt = dfToEDA[~dfToEDA['ShipVoyage'].isin(excluded_voyages)]\n",
    "print(f\"Filtered shape after exclusion: {dfToEDA_filt.shape}\")\n",
    "\n",
    "dfToEDA = dfToEDA_filt\n",
    "\n",
    "print(\"Excluded voyages have been removed from dfToEDA.\")\n"
   ]
  },
  {
   "cell_type": "code",
   "execution_count": 299,
   "id": "e356057d-3412-433c-8c49-132f54d9defe",
   "metadata": {},
   "outputs": [
    {
     "name": "stdout",
     "output_type": "stream",
     "text": [
      "Number of unique ShipVoyage: 75\n"
     ]
    }
   ],
   "source": [
    "# Count the number of unique ShipVoyage values\n",
    "unique_shipvoyages = dfToEDA['ShipVoyage'].nunique()\n",
    "\n",
    "print(f\"Number of unique ShipVoyage: {unique_shipvoyages}\")"
   ]
  },
  {
   "cell_type": "code",
   "execution_count": 301,
   "id": "281d79b4-205c-45f0-84dc-76f7b62266a3",
   "metadata": {},
   "outputs": [
    {
     "name": "stdout",
     "output_type": "stream",
     "text": [
      "Outliers based on voyage durations:\n",
      "    Voyage_File  Duration_Hours\n",
      "16  255792000_0       33.226389\n",
      "32  353111000_4       30.493889\n",
      "67  636022103_2       34.360556\n",
      "73  636023185_0       30.680000\n",
      "Applied log transformation to 255792000_0.\n",
      "Applied log transformation to 636022103_2.\n",
      "    Voyage_File  Duration_Hours\n",
      "16  255792000_0        3.532997\n",
      "67  636022103_2        3.565597\n"
     ]
    },
    {
     "data": {
      "image/png": "[encoded data removed]",
      "text/plain": [
       "<Figure size 1000x600 with 1 Axes>"
      ]
     },
     "metadata": {},
     "output_type": "display_data"
    }
   ],
   "source": [
    "# Calculating time difference between the first and last BaseDateTime\n",
    "def calculate_time_difference_per_voyage(df):\n",
    "    time_differences = []\n",
    "    \n",
    "    for voyage_id, voyage_group in df.groupby('ShipVoyage'):\n",
    "        voyage_group['BaseDateTime'] = pd.to_datetime(voyage_group['BaseDateTime'])\n",
    "        first_time = voyage_group['BaseDateTime'].min()\n",
    "        last_time = voyage_group['BaseDateTime'].max()\n",
    "        time_diff_hours = (last_time - first_time).total_seconds() / 3600  # Return difference in hours\n",
    "        time_differences.append((voyage_id, time_diff_hours))\n",
    "    \n",
    "    return pd.DataFrame(time_differences, columns=['Voyage_File', 'Duration_Hours'])\n",
    "\n",
    "# Detecting outliers using IQR\n",
    "def detect_outliers_iqr(time_differences):\n",
    "    Q1 = time_differences['Duration_Hours'].quantile(0.25)\n",
    "    Q3 = time_differences['Duration_Hours'].quantile(0.75)\n",
    "    IQR = Q3 - Q1\n",
    "\n",
    "    lower_bound = Q1 - 1.5 * IQR\n",
    "    upper_bound = Q3 + 1.5 * IQR\n",
    "\n",
    "    return time_differences[(time_differences['Duration_Hours'] < lower_bound) | (time_differences['Duration_Hours'] > upper_bound)]\n",
    "\n",
    "# Applying log transformation to specific voyages\n",
    "def apply_log_transformation(df, voyage_ids):\n",
    "    for voyage_id in voyage_ids:\n",
    "        index = df[df['Voyage_File'] == voyage_id].index\n",
    "        \n",
    "        if not index.empty:\n",
    "            # Applying log transformation (use log1p to avoid issues with zero or negative values)\n",
    "            df.loc[index, 'Duration_Hours'] = np.log1p(df.loc[index, 'Duration_Hours'])\n",
    "            print(f\"Applied log transformation to {voyage_id}.\")\n",
    "        else:\n",
    "            print(f\"Voyage {voyage_id} not found in the dataset.\")\n",
    "    \n",
    "    return df\n",
    "\n",
    "# Calculating the time differences for each ShipVoyage in dfToEDA\n",
    "voyage_df = calculate_time_difference_per_voyage(dfToEDA)\n",
    "\n",
    "# Detecting outliers using IQR\n",
    "outliers = detect_outliers_iqr(voyage_df)\n",
    "\n",
    "print(\"Outliers based on voyage durations:\")\n",
    "outlier_df = voyage_df[voyage_df['Duration_Hours'].isin(outliers['Duration_Hours'])]\n",
    "print(outlier_df)\n",
    "\n",
    "# Applying log transformation to the specific outliers\n",
    "outlier_voyages = ['255792000_0', '636022103_2']\n",
    "voyage_df_transformed = apply_log_transformation(voyage_df, outlier_voyages)\n",
    "\n",
    "print(voyage_df_transformed[voyage_df_transformed['Voyage_File'].isin(outlier_voyages)])\n",
    "\n",
    "# Plot after log transformation (boxplot)\n",
    "plt.figure(figsize=(10, 6))\n",
    "sns.boxplot(x=voyage_df_transformed['Duration_Hours'])\n",
    "plt.title('Boxplot of Voyage Durations After Log Transformation')\n",
    "plt.show()\n",
    "\n",
    "\n"
   ]
  },
  {
   "cell_type": "code",
   "execution_count": null,
   "id": "886e1d85-2f54-4d61-bbd0-0b214efe2123",
   "metadata": {},
   "outputs": [],
   "source": []
  },
  {
   "cell_type": "markdown",
   "id": "8f958248-a148-4e50-9ca5-94b3e5055df0",
   "metadata": {},
   "source": [
    "### Displaying a map with first and last registered points"
   ]
  },
  {
   "cell_type": "code",
   "execution_count": 167,
   "id": "79913393-8bbe-41ea-b8bc-a055f25b6f83",
   "metadata": {},
   "outputs": [
    {
     "name": "stdout",
     "output_type": "stream",
     "text": [
      "Map with first and last moored points saved at: D:\\A TESE\\Modelo ML\\Sines_map.html\n"
     ]
    }
   ],
   "source": [
    "# Center coordinates for the map (Sines port)\n",
    "Sines_coords = [37.933896, -8.855063]\n",
    "\n",
    "# Create a map centered on the port\n",
    "m = fl.Map(location=Sines_coords, zoom_start=11)\n",
    "\n",
    "# Add a 50 km circle and a 3 km circle around the port\n",
    "fl.Circle(location=Sines_coords, radius=50000, color='blue', fill=True, fill_opacity=0.1).add_to(m)\n",
    "fl.Circle(location=Sines_coords, radius=7000, color='red', fill=True, fill_opacity=0.3).add_to(m)\n",
    "\n",
    "# Filter the DataFrame for rows where SOG is ≤ 1\n",
    "moored_points_df = dfToEDA.loc[dfToEDA[\"SOG\"] <= 1.0, [\"LAT\", \"LON\", \"ShipVoyage\"]]\n",
    "\n",
    "# Initialize an empty DataFrame to store the first and last moored points per ShipVoyage\n",
    "first_last_moored_points = pd.DataFrame()\n",
    "\n",
    "# Group by 'ShipVoyage' and get the first and last moored points for each voyage\n",
    "for voyage_id, group in moored_points_df.groupby(\"ShipVoyage\"):\n",
    "    if not group.empty:\n",
    "        first_last_points = pd.concat([group.iloc[[0]], group.iloc[[-1]]])  # First and last point of each voyage\n",
    "        first_last_moored_points = pd.concat([first_last_moored_points, first_last_points])\n",
    "\n",
    "# Add a FastMarkerCluster for the first and last moored points\n",
    "fmc = FastMarkerCluster(data=first_last_moored_points[['LAT', 'LON']].values.tolist())\n",
    "fmc.add_to(m)\n",
    "\n",
    "# Save the map as an HTML file\n",
    "m.save(Map_html)\n",
    "\n",
    "print(f\"Map with first and last moored points saved at: {Map_html}\")"
   ]
  },
  {
   "cell_type": "code",
   "execution_count": null,
   "id": "03245a9e-1134-4dee-aa35-93a65fb6afb7",
   "metadata": {},
   "outputs": [],
   "source": []
  },
  {
   "cell_type": "markdown",
   "id": "e6cd6b96-c553-4a05-8dcd-9df6c816e8da",
   "metadata": {},
   "source": [
    "### Histogram of Voyage Durations"
   ]
  },
  {
   "cell_type": "code",
   "execution_count": 162,
   "id": "01335928-d129-4bce-9922-a4f4b3157ec7",
   "metadata": {},
   "outputs": [
    {
     "data": {
      "image/png": "[encoded data removed]",
      "text/plain": [
       "<Figure size 1200x800 with 1 Axes>"
      ]
     },
     "metadata": {},
     "output_type": "display_data"
    }
   ],
   "source": [
    "# Histogram of voyage durations\n",
    "\n",
    "voyage_durations = dfToEDA.groupby('Imo')['BaseDateTime'].agg([min, max])\n",
    "voyage_durations['Duration Hours'] = (voyage_durations['max'] - voyage_durations['min']).dt.total_seconds() / 3600\n",
    "\n",
    "# Filter voyages to be at most 60 hours for better visualization\n",
    "voyage_durations = voyage_durations[voyage_durations['Duration Hours'] <= 48]\n",
    "\n",
    "# Plotting the histogram of voyage durations (Max 60 Hours)\n",
    "# plt.figure(figsize=(12, 8))\n",
    "n, bins, patches = plt.hist(voyage_durations['Duration Hours'], bins=range(0, 48, 2), color='skyblue', edgecolor='black')\n",
    "\n",
    "# Add data labels on top of the bars\n",
    "for i in range(len(patches)):\n",
    "    plt.text(patches[i].get_x() + patches[i].get_width() / 2, patches[i].get_height(), str(int(n[i])), ha='center', va='bottom')\n",
    "\n",
    "# Customize the plot\n",
    "plt.grid(True, linestyle='--', alpha=0.7)\n",
    "plt.title('Histogram of Voyage Durations (Max 48 Hours)', fontsize=16)\n",
    "plt.xlabel('Duration in Hours (bin size = 2 hours)', fontsize=14)\n",
    "plt.ylabel('Number of Voyages', fontsize=14)\n",
    "plt.show()"
   ]
  },
  {
   "cell_type": "code",
   "execution_count": null,
   "id": "ace0ac3c-5d5f-4a65-9e54-0470428f8ab4",
   "metadata": {},
   "outputs": [],
   "source": []
  },
  {
   "cell_type": "markdown",
   "id": "20f8992b-07b2-4431-84ed-2ba974f385f7",
   "metadata": {},
   "source": [
    "### Correlation heatmap"
   ]
  },
  {
   "cell_type": "code",
   "execution_count": 313,
   "id": "71721200-852a-40e6-9016-3852221375a8",
   "metadata": {},
   "outputs": [
    {
     "name": "stdout",
     "output_type": "stream",
     "text": [
      "             BaseDateTime  LON  LAT  MMSI  Imo  Type  ETA  Destination  SOG  \\\n",
      "ShipVoyage                                                                    \n",
      "209550000_0             0    0    0     0    0     0    0            0    0   \n",
      "209720000_0             0    0    0     0    0     0    0            0    0   \n",
      "209917000_0             0    0    0     0    0     0    0            0    0   \n",
      "236111906_1             0    0    0     0    0     0    0            0    0   \n",
      "236111906_3             0    0    0     0    0     0    0            0    0   \n",
      "...                   ...  ...  ...   ...  ...   ...  ...          ...  ...   \n",
      "636022920_0             0    0    0     0    0     0    0            0    0   \n",
      "636022920_1             0    0    0     0    0     0    0            0    0   \n",
      "636022920_2             0    0    0     0    0     0    0            0    0   \n",
      "636023185_0             0    0    0     0    0     0    0            0    0   \n",
      "636023479_0             0    0    0     0    0     0    0            0    0   \n",
      "\n",
      "             COG  ShipVoyage  RTD  RTT  \n",
      "ShipVoyage                              \n",
      "209550000_0    0           0    0    0  \n",
      "209720000_0    0           0    0    0  \n",
      "209917000_0    0           0    0    0  \n",
      "236111906_1    0           0    0    0  \n",
      "236111906_3    0           0    0    0  \n",
      "...          ...         ...  ...  ...  \n",
      "636022920_0    0           0    0    0  \n",
      "636022920_1    0           0    0    0  \n",
      "636022920_2    0           0    0    0  \n",
      "636023185_0    0           0    0    0  \n",
      "636023479_0    0           0    0    0  \n",
      "\n",
      "[75 rows x 13 columns]\n"
     ]
    }
   ],
   "source": [
    "# Checking for missing values in dfToEDA per ShipVoyage\n",
    "missing_values_per_voyage = dfToEDA.groupby('ShipVoyage').apply(lambda x: x.isnull().sum())\n",
    "print(missing_values_per_voyage)"
   ]
  },
  {
   "cell_type": "code",
   "execution_count": 385,
   "id": "72da1e06-5081-42c6-af41-af0d0d3f4896",
   "metadata": {},
   "outputs": [
    {
     "data": {
      "image/png": "[encoded data removed]",
      "text/plain": [
       "<Figure size 1200x1000 with 2 Axes>"
      ]
     },
     "metadata": {},
     "output_type": "display_data"
    },
    {
     "name": "stdout",
     "output_type": "stream",
     "text": [
      "Original number of ShipVoyage: 75\n",
      "Number of ShipVoyage after cleaning: 75\n"
     ]
    }
   ],
   "source": [
    "dfToEDA_clean = dfToEDA.copy()\n",
    "\n",
    "ship_voyage_column = dfToEDA_clean['ShipVoyage']\n",
    "\n",
    "# Dropping the 'Type' column and selecting only numeric columns for Correlation Analysis\n",
    "dfToEDA_clean = dfToEDA_clean.drop(columns=['Type'])\n",
    "numeric_data = dfToEDA_clean.select_dtypes(include=[\"number\"])\n",
    "\n",
    "# Performing Correlation Analysis\n",
    "correlation_matrix = numeric_data.corr()\n",
    "\n",
    "# Plotting the correlation matrix\n",
    "plt.figure(figsize=(12, 10))\n",
    "sns.heatmap(correlation_matrix, annot=True, cmap='coolwarm', linewidths=0.5)\n",
    "plt.title('Correlation Matrix of dfToEDA')\n",
    "plt.show()\n",
    "\n",
    "# Saving the correlation matrix to CSV\n",
    "correlation_matrix.to_csv('D:/A TESE/Modelo ML/CSV/corr_matrix.csv', index=True)\n",
    "\n",
    "# Adding back the 'ShipVoyage' column to the cleaned DataFrame if needed later\n",
    "dfToEDA_clean['ShipVoyage'] = ship_voyage_column\n",
    "\n",
    "# Keep the ShipVoyage column intact\n",
    "print(f\"Original number of ShipVoyage: {dfToEDA['ShipVoyage'].nunique()}\")\n",
    "print(f\"Number of ShipVoyage after cleaning: {dfToEDA_clean['ShipVoyage'].nunique()}\")\n"
   ]
  },
  {
   "cell_type": "code",
   "execution_count": null,
   "id": "0dc24463-d988-4cf2-b82c-cea91f2c4c98",
   "metadata": {},
   "outputs": [],
   "source": []
  },
  {
   "cell_type": "markdown",
   "id": "30a10795-9eba-4fd1-a10d-4361826b52dc",
   "metadata": {},
   "source": [
    "#### Dropping low-correlated features (to RTT)"
   ]
  },
  {
   "cell_type": "code",
   "execution_count": 387,
   "id": "784e09d5-4ff3-4b3a-a76e-3d887b1a2ec6",
   "metadata": {},
   "outputs": [],
   "source": [
    "# Dropping irrelevant features for RTT prediction\n",
    "irrelevant_features = ['Imo', 'MMSI', 'ETA', 'Destination']  # List of features to drop\n",
    "dfToEDA_clean = dfToEDA_clean.drop(columns=irrelevant_features)"
   ]
  },
  {
   "cell_type": "code",
   "execution_count": 389,
   "id": "6363b890-1f99-4c0f-b829-6d626f8dee10",
   "metadata": {},
   "outputs": [
    {
     "data": {
      "text/html": [
       "<div>\n",
       "<style scoped>\n",
       "    .dataframe tbody tr th:only-of-type {\n",
       "        vertical-align: middle;\n",
       "    }\n",
       "\n",
       "    .dataframe tbody tr th {\n",
       "        vertical-align: top;\n",
       "    }\n",
       "\n",
       "    .dataframe thead th {\n",
       "        text-align: right;\n",
       "    }\n",
       "</style>\n",
       "<table border=\"1\" class=\"dataframe\">\n",
       "  <thead>\n",
       "    <tr style=\"text-align: right;\">\n",
       "      <th></th>\n",
       "      <th>BaseDateTime</th>\n",
       "      <th>LON</th>\n",
       "      <th>LAT</th>\n",
       "      <th>SOG</th>\n",
       "      <th>COG</th>\n",
       "      <th>ShipVoyage</th>\n",
       "      <th>RTD</th>\n",
       "      <th>RTT</th>\n",
       "    </tr>\n",
       "  </thead>\n",
       "  <tbody>\n",
       "    <tr>\n",
       "      <th>0</th>\n",
       "      <td>2023-09-25 12:49:00</td>\n",
       "      <td>-7.689917</td>\n",
       "      <td>36.357050</td>\n",
       "      <td>16.8</td>\n",
       "      <td>288.0</td>\n",
       "      <td>209550000_0</td>\n",
       "      <td>203.485182</td>\n",
       "      <td>6.540072</td>\n",
       "    </tr>\n",
       "    <tr>\n",
       "      <th>1</th>\n",
       "      <td>2023-09-25 12:49:02</td>\n",
       "      <td>-7.690650</td>\n",
       "      <td>36.357233</td>\n",
       "      <td>16.8</td>\n",
       "      <td>288.0</td>\n",
       "      <td>209550000_0</td>\n",
       "      <td>203.434578</td>\n",
       "      <td>6.538445</td>\n",
       "    </tr>\n",
       "    <tr>\n",
       "      <th>2</th>\n",
       "      <td>2023-09-25 12:49:14</td>\n",
       "      <td>-7.691667</td>\n",
       "      <td>36.357500</td>\n",
       "      <td>16.8</td>\n",
       "      <td>288.0</td>\n",
       "      <td>209550000_0</td>\n",
       "      <td>203.363237</td>\n",
       "      <td>6.536153</td>\n",
       "    </tr>\n",
       "    <tr>\n",
       "      <th>3</th>\n",
       "      <td>2023-09-25 12:49:20</td>\n",
       "      <td>-7.692200</td>\n",
       "      <td>36.357650</td>\n",
       "      <td>16.8</td>\n",
       "      <td>288.0</td>\n",
       "      <td>209550000_0</td>\n",
       "      <td>203.324848</td>\n",
       "      <td>6.534919</td>\n",
       "    </tr>\n",
       "    <tr>\n",
       "      <th>4</th>\n",
       "      <td>2023-09-25 12:49:32</td>\n",
       "      <td>-7.693300</td>\n",
       "      <td>36.357950</td>\n",
       "      <td>16.8</td>\n",
       "      <td>288.0</td>\n",
       "      <td>209550000_0</td>\n",
       "      <td>203.246588</td>\n",
       "      <td>6.532403</td>\n",
       "    </tr>\n",
       "  </tbody>\n",
       "</table>\n",
       "</div>"
      ],
      "text/plain": [
       "         BaseDateTime       LON        LAT   SOG    COG   ShipVoyage  \\\n",
       "0 2023-09-25 12:49:00 -7.689917  36.357050  16.8  288.0  209550000_0   \n",
       "1 2023-09-25 12:49:02 -7.690650  36.357233  16.8  288.0  209550000_0   \n",
       "2 2023-09-25 12:49:14 -7.691667  36.357500  16.8  288.0  209550000_0   \n",
       "3 2023-09-25 12:49:20 -7.692200  36.357650  16.8  288.0  209550000_0   \n",
       "4 2023-09-25 12:49:32 -7.693300  36.357950  16.8  288.0  209550000_0   \n",
       "\n",
       "          RTD       RTT  \n",
       "0  203.485182  6.540072  \n",
       "1  203.434578  6.538445  \n",
       "2  203.363237  6.536153  \n",
       "3  203.324848  6.534919  \n",
       "4  203.246588  6.532403  "
      ]
     },
     "execution_count": 389,
     "metadata": {},
     "output_type": "execute_result"
    }
   ],
   "source": [
    "dfToEDA_clean.head()"
   ]
  },
  {
   "cell_type": "code",
   "execution_count": null,
   "id": "1c7a1354-f579-4a27-8fbd-f074e36bcc78",
   "metadata": {},
   "outputs": [],
   "source": []
  },
  {
   "cell_type": "markdown",
   "id": "69174df3-1080-40e4-ae70-e2ee0a35fcde",
   "metadata": {},
   "source": [
    "#### Checking multicollinearity with VIF"
   ]
  },
  {
   "cell_type": "code",
   "execution_count": 391,
   "id": "f078ee5d-c9d9-4146-819c-3f7e3dea7c40",
   "metadata": {},
   "outputs": [
    {
     "name": "stdout",
     "output_type": "stream",
     "text": [
      "  Feature         VIF\n",
      "0     LON  233.612099\n",
      "1     LAT  253.427063\n",
      "2     SOG    5.694636\n",
      "3     COG    4.543121\n",
      "4     RTD    4.213452\n"
     ]
    }
   ],
   "source": [
    "# Selecting the features for multicollinearity check\n",
    "features_to_check = ['LON', 'LAT','SOG', 'COG', 'RTD']\n",
    "df_subset = dfToEDA_clean[features_to_check].apply(pd.to_numeric, errors='coerce')\n",
    "\n",
    "vif_data = pd.DataFrame()\n",
    "vif_data[\"Feature\"] = df_subset.columns\n",
    "vif_data[\"VIF\"] = [variance_inflation_factor(df_subset.values, i) for i in range(len(df_subset.columns))]\n",
    "print(vif_data)"
   ]
  },
  {
   "cell_type": "code",
   "execution_count": null,
   "id": "ad97b7ea-499a-4a2e-9fc4-68ab48e01023",
   "metadata": {},
   "outputs": [],
   "source": []
  },
  {
   "cell_type": "markdown",
   "id": "d7b20e54-5372-47f3-afd4-bdca81a1166d",
   "metadata": {},
   "source": [
    "#### Checking distribution"
   ]
  },
  {
   "cell_type": "code",
   "execution_count": 393,
   "id": "55299e7e-f544-4f5e-befc-42e3fc690ee2",
   "metadata": {},
   "outputs": [
    {
     "data": {
      "image/png": "[encoded data removed]",
      "text/plain": [
       "<Figure size 1200x800 with 4 Axes>"
      ]
     },
     "metadata": {},
     "output_type": "display_data"
    }
   ],
   "source": [
    "# Features to check\n",
    "features_check = ['SOG', 'COG', 'RTD', 'RTT']\n",
    "\n",
    "for i, feature in enumerate(features_check, 1):\n",
    "    plt.subplot(2, 2, i)\n",
    "    sns.histplot(dfToEDA_clean[feature], kde=True)\n",
    "    plt.title(f'Distribution of {feature}')\n",
    "\n",
    "plt.tight_layout()\n",
    "plt.show()"
   ]
  },
  {
   "cell_type": "code",
   "execution_count": null,
   "id": "f7640186-6ec7-4b34-9a34-19ce3a5c9dcb",
   "metadata": {},
   "outputs": [],
   "source": []
  },
  {
   "cell_type": "code",
   "execution_count": null,
   "id": "e316df82-3901-408e-a33c-5e67d334c096",
   "metadata": {},
   "outputs": [],
   "source": [
    "# Next step is saving the datasets"
   ]
  },
  {
   "cell_type": "markdown",
   "id": "7d0b652f-e010-4701-8fcb-ddb5a822367f",
   "metadata": {},
   "source": [
    "#### Feature scaling"
   ]
  },
  {
   "cell_type": "code",
   "execution_count": 349,
   "id": "ed2b3791-a664-4326-8a26-ba2f83fbf09f",
   "metadata": {},
   "outputs": [
    {
     "name": "stdout",
     "output_type": "stream",
     "text": [
      "        SOG      COG       RTD\n",
      "0  1.262534  1.28688  1.551879\n",
      "1  1.262534  1.28688  1.551224\n",
      "2  1.262534  1.28688  1.550302\n",
      "3  1.262534  1.28688  1.549806\n",
      "4  1.262534  1.28688  1.548795\n"
     ]
    }
   ],
   "source": [
    "# NOT USED\n",
    "\n",
    "# Features to scale\n",
    "features_to_scale = ['SOG', 'COG', 'RTD']\n",
    "\n",
    "scaled_features = pd.DataFrame()\n",
    "scaler = StandardScaler()\n",
    "scaled_features[features_to_scale] = scaler.fit_transform(dfToEDA_clean[features_to_scale])\n",
    "\n",
    "print(scaled_features.head())"
   ]
  },
  {
   "cell_type": "markdown",
   "id": "da9f0ee1-6350-4881-80f2-564f31f920fc",
   "metadata": {},
   "source": [
    "#### Checking distribution after scaling"
   ]
  },
  {
   "cell_type": "code",
   "execution_count": 262,
   "id": "c7578556-e7fc-4559-9825-60113ab535d5",
   "metadata": {},
   "outputs": [
    {
     "data": {
      "image/png": "[encoded data removed]",
      "text/plain": [
       "<Figure size 800x600 with 1 Axes>"
      ]
     },
     "metadata": {},
     "output_type": "display_data"
    },
    {
     "data": {
      "image/png": "[encoded data removed]",
      "text/plain": [
       "<Figure size 800x600 with 1 Axes>"
      ]
     },
     "metadata": {},
     "output_type": "display_data"
    },
    {
     "data": {
      "image/png": "[encoded data removed]",
      "text/plain": [
       "<Figure size 800x600 with 1 Axes>"
      ]
     },
     "metadata": {},
     "output_type": "display_data"
    }
   ],
   "source": [
    "# NOT USED\n",
    "\n",
    "for feature in features_to_scale:\n",
    "    plt.figure(figsize=(8, 6))\n",
    "    sns.histplot(scaled_features[feature], kde=True)\n",
    "    plt.title(f'Distribution of {feature} after Scaling')\n",
    "    plt.xlabel(f'Scaled {feature}')\n",
    "    plt.ylabel('Count')\n",
    "    plt.show()\n"
   ]
  },
  {
   "cell_type": "code",
   "execution_count": 383,
   "id": "e0fd9aa3-3bf4-4c79-8778-9496ae936876",
   "metadata": {},
   "outputs": [
    {
     "data": {
      "image/png": "[encoded data removed]",
      "text/plain": [
       "<Figure size 1200x1000 with 2 Axes>"
      ]
     },
     "metadata": {},
     "output_type": "display_data"
    }
   ],
   "source": [
    "numeric_data = dfToEDA_clean.select_dtypes(include=[\"number\"])\n",
    "\n",
    "# Performing Correlation Analysis\n",
    "correlation_matrix = numeric_data.corr()\n",
    "\n",
    "# Plotting the correlation matrix\n",
    "plt.figure(figsize=(12, 10))\n",
    "sns.heatmap(correlation_matrix, annot=True, cmap='coolwarm', linewidths=0.5)\n",
    "plt.title('Correlation Matrix of dfToEDA')\n",
    "plt.show()\n",
    "\n",
    "# Saving the correlation matrix to CSV\n",
    "correlation_matrix.to_csv('D:/A TESE/Modelo ML/CSV/corr_matrix_2.csv', index=True)\n",
    "\n",
    "# Adding back the 'ShipVoyage' column to the cleaned DataFrame if needed later\n",
    "dfToEDA_clean['ShipVoyage'] = ship_voyage_column\n"
   ]
  },
  {
   "cell_type": "code",
   "execution_count": null,
   "id": "feca8500-e844-40f4-9645-a46026cf06f4",
   "metadata": {},
   "outputs": [],
   "source": []
  },
  {
   "cell_type": "code",
   "execution_count": null,
   "id": "ddddc1b3-e47b-4deb-b86d-ff4bbabca1cd",
   "metadata": {},
   "outputs": [],
   "source": []
  },
  {
   "cell_type": "code",
   "execution_count": 396,
   "id": "12ae04d2-cd6c-40e2-8fa2-a5abe5f58093",
   "metadata": {},
   "outputs": [
    {
     "name": "stdout",
     "output_type": "stream",
     "text": [
      "Final datasets have been saved in D:\\A TESE\\Modelo ML\\CSV\\voyages_final.\n"
     ]
    }
   ],
   "source": [
    "# Loop through each ShipVoyage group and save as separate CSV files\n",
    "for ship_voyage, group in dfToEDA_clean.groupby('ShipVoyage'):\n",
    "    file_path = os.path.join(Voyages_final, f\"{ship_voyage}.csv\")\n",
    "    group.to_csv(file_path, index=False)\n",
    "\n",
    "print(f\"Final datasets have been saved in {Voyages_final}.\")"
   ]
  },
  {
   "cell_type": "code",
   "execution_count": null,
   "id": "56d222c9-2e0f-4fc7-8d7f-7003e8e2c4f1",
   "metadata": {},
   "outputs": [],
   "source": []
  },
  {
   "cell_type": "code",
   "execution_count": 398,
   "id": "ebdffec0-30a8-41f6-8779-ccf4d1268540",
   "metadata": {},
   "outputs": [
    {
     "name": "stdout",
     "output_type": "stream",
     "text": [
      "Total CSV files created: 75\n"
     ]
    }
   ],
   "source": [
    "# Verifying the number of CSV files\n",
    "csv_files = [f for f in os.listdir(Voyages_final) if f.endswith('.csv')]\n",
    "csv_count = len(csv_files)\n",
    "\n",
    "print(f\"Total CSV files created: {csv_count}\")"
   ]
  },
  {
   "cell_type": "code",
   "execution_count": null,
   "id": "2deb7521-6cf7-4df6-a41d-2d1f38433295",
   "metadata": {},
   "outputs": [],
   "source": []
  }
 ],
 "metadata": {
  "kernelspec": {
   "display_name": "Python 3 (ipykernel)",
   "language": "python",
   "name": "python3"
  },
  "language_info": {
   "codemirror_mode": {
    "name": "ipython",
    "version": 3
   },
   "file_extension": ".py",
   "mimetype": "text/x-python",
   "name": "python",
   "nbconvert_exporter": "python",
   "pygments_lexer": "ipython3",
   "version": "3.10.15"
  }
 },
 "nbformat": 4,
 "nbformat_minor": 5
}
