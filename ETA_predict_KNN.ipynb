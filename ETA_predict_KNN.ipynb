{
 "cells": [
  {
   "cell_type": "code",
   "execution_count": null,
   "id": "09627795-cae0-47c9-80f0-3bd56065e567",
   "metadata": {},
   "outputs": [],
   "source": []
  },
  {
   "cell_type": "markdown",
   "id": "383cb3e4-a07a-4599-b864-c80f7ad09524",
   "metadata": {},
   "source": [
    "# K-Nearest Neighbors"
   ]
  },
  {
   "cell_type": "code",
   "execution_count": null,
   "id": "00af7827-9074-438d-a836-362e5f8f7969",
   "metadata": {},
   "outputs": [],
   "source": []
  },
  {
   "cell_type": "code",
   "execution_count": 13,
   "id": "06a0650d-dbe4-4343-ab17-7d1c2947a2f5",
   "metadata": {},
   "outputs": [],
   "source": [
    "# Importing the required libraries\n",
    "\n",
    "import os\n",
    "import pandas as pd\n",
    "import numpy as np\n",
    "import shutil\n",
    "import random\n",
    "import time\n",
    "from datetime import timedelta\n",
    "from sklearn.model_selection import train_test_split, cross_val_score\n",
    "from sklearn.neighbors import KNeighborsRegressor\n",
    "from sklearn.metrics import mean_absolute_error, mean_squared_error, r2_score\n",
    "import glob"
   ]
  },
  {
   "cell_type": "code",
   "execution_count": null,
   "id": "e55c68cb-08c9-44d5-8d50-435d9a8bc0a3",
   "metadata": {},
   "outputs": [],
   "source": []
  },
  {
   "cell_type": "code",
   "execution_count": 5,
   "id": "02b6ed21-26c9-421c-a1de-583d08e9b147",
   "metadata": {},
   "outputs": [],
   "source": [
    "# Defining paths to the base directory\n",
    "output_folder_path = 'D:/A TESE/Modelo ML/CSV/voyages_final'  # Folder containing processed CSV files\n",
    "train_folder_path = 'D:/A TESE/Modelo ML/KNN/train_KNN/'  # Folder to save train files\n",
    "test_folder_path = 'D:/A TESE/Modelo ML/KNN/test_KNN/'  # Folder to save test files\n",
    "test_subfolder_path = os.path.join(test_folder_path, 'test/')  # Subfolder for test half\n",
    "validate_subfolder_path = os.path.join(test_folder_path, 'validate/')  # Subfolder for validation half\n",
    "\n",
    "# Create train, test, and validation folders if they don't exist\n",
    "os.makedirs(train_folder_path, exist_ok=True)\n",
    "os.makedirs(test_subfolder_path, exist_ok=True)\n",
    "os.makedirs(validate_subfolder_path, exist_ok=True)"
   ]
  },
  {
   "cell_type": "code",
   "execution_count": null,
   "id": "e127f771-75f8-43e7-b1d5-5c75fadedf55",
   "metadata": {},
   "outputs": [],
   "source": []
  },
  {
   "cell_type": "code",
   "execution_count": 43,
   "id": "46c78a0f-3486-4f64-8956-e892c1e20517",
   "metadata": {},
   "outputs": [
    {
     "name": "stdout",
     "output_type": "stream",
     "text": [
      "Files have been split into train, test, and validate folders.\n"
     ]
    }
   ],
   "source": [
    "# Splitting into train-test folders (70/30)\n",
    "# Splitting test folder into test and validation halves\n",
    "\n",
    "all_files = [f for f in os.listdir(output_folder_path) if f.endswith('.csv')]\n",
    "\n",
    "random.shuffle(all_files)\n",
    "\n",
    "train_files = all_files[:int(0.7 * len(all_files))]\n",
    "test_files = all_files[int(0.7 * len(all_files)):] \n",
    "\n",
    "for file in train_files:\n",
    "    shutil.copy(os.path.join(output_folder_path, file), os.path.join(train_folder_path, file))\n",
    "\n",
    "for file in test_files:\n",
    "    file_path = os.path.join(output_folder_path, file)\n",
    "    df = pd.read_csv(file_path)\n",
    "\n",
    "    midpoint = len(df) // 2\n",
    "    test_half = df.iloc[:midpoint]\n",
    "    validate_half = df.iloc[midpoint:]\n",
    "\n",
    "    test_half.to_csv(os.path.join(test_subfolder_path, file), index=False)\n",
    "\n",
    "    validate_half.to_csv(os.path.join(validate_subfolder_path, file), index=False)\n",
    "\n",
    "print(\"Files have been split into train, test, and validate folders.\")"
   ]
  },
  {
   "cell_type": "code",
   "execution_count": null,
   "id": "1ab56453-d59e-4e27-af94-360765246acd",
   "metadata": {},
   "outputs": [],
   "source": []
  },
  {
   "cell_type": "code",
   "execution_count": 35,
   "id": "2b18522d-aac2-43d4-be39-faf49e00d630",
   "metadata": {},
   "outputs": [
    {
     "name": "stdout",
     "output_type": "stream",
     "text": [
      "Total CSV files created: 52\n"
     ]
    }
   ],
   "source": [
    "# Verifying the number of CSV files\n",
    "\n",
    "csv_files = [f for f in os.listdir(train_folder_path) if f.endswith('.csv')]\n",
    "csv_count = len(csv_files)\n",
    "\n",
    "print(f\"Total CSV files created: {csv_count}\")"
   ]
  },
  {
   "cell_type": "code",
   "execution_count": null,
   "id": "16057084-d18e-48c7-b5bc-24bd9ac37aa6",
   "metadata": {},
   "outputs": [],
   "source": []
  },
  {
   "cell_type": "code",
   "execution_count": 45,
   "id": "27fe1d70-612c-45a4-b0d8-26cdc8a513f4",
   "metadata": {},
   "outputs": [
    {
     "name": "stdout",
     "output_type": "stream",
     "text": [
      "Cross-Validation R^2 Scores: [0.80261324 0.80207725 0.78595119 0.80788404 0.10979262]\n",
      "Mean Cross-Validation R^2: 0.6616636691063496\n",
      "Model MAE: 0.13342448084271685\n",
      "Model RMSE: 0.5075734153250491\n",
      "Model R^2: 0.9877034021945689\n",
      "Execution Time: 5.280024528503418 seconds\n",
      "ML model for KNN\n"
     ]
    }
   ],
   "source": [
    "# KNN model with validation and performance metrics\n",
    "\n",
    "start_time = time.time()\n",
    "\n",
    "train_files = glob.glob(train_folder_path + \"*.csv\")\n",
    "train_data = pd.concat([pd.read_csv(f) for f in train_files], ignore_index=True)\n",
    "train_data.dropna(inplace=True)  \n",
    "\n",
    "X = train_data[['RTD', 'SOG', 'COG', 'LAT', 'LON']]  \n",
    "y = train_data['RTT']  \n",
    "\n",
    "X_train, X_valid, y_train, y_valid = train_test_split(X, y, test_size=0.2, random_state=42)\n",
    "\n",
    "model = KNeighborsRegressor(n_neighbors=10)\n",
    "model.fit(X_train, y_train)\n",
    "\n",
    "cv_scores = cross_val_score(model, X, y, cv=5, scoring='r2')\n",
    "print(f\"Cross-Validation R^2 Scores: {cv_scores}\")\n",
    "print(f\"Mean Cross-Validation R^2: {np.mean(cv_scores)}\")\n",
    "\n",
    "y_pred = model.predict(X_valid)\n",
    "mae = mean_absolute_error(y_valid, y_pred)\n",
    "rmse = np.sqrt(mean_squared_error(y_valid, y_pred))\n",
    "r2 = r2_score(y_valid, y_pred)\n",
    "\n",
    "print(f\"Model MAE: {mae}\")\n",
    "print(f\"Model RMSE: {rmse}\")\n",
    "print(f\"Model R^2: {r2}\")\n",
    "\n",
    "test_files = glob.glob(test_subfolder_path + \"*.csv\")\n",
    "for test_file in test_files:\n",
    "    test_data = pd.read_csv(test_file)\n",
    "    test_data.dropna(inplace=True)  \n",
    "    X_test = test_data[['RTD', 'SOG', 'COG', 'LAT', 'LON']]  \n",
    "    y_test_pred = model.predict(X_test)\n",
    "\n",
    "    validation_file = os.path.join(validate_subfolder_path, os.path.basename(test_file))\n",
    "    validation_data = pd.read_csv(validation_file)\n",
    "    validation_data = validation_data.iloc[:len(y_test_pred)]  \n",
    "    validation_data['Predicted_RTT'] = y_test_pred\n",
    "\n",
    "    validation_data['BaseDateTime'] = pd.to_datetime(validation_data['BaseDateTime'], errors='coerce')\n",
    "\n",
    "    validation_data['Predicted_ETA'] = validation_data['BaseDateTime'] + pd.to_timedelta(validation_data['Predicted_RTT'], unit='h')\n",
    "\n",
    "    validation_data['Predicted_ETA'] = validation_data['Predicted_ETA'].dt.strftime('%Y-%m-%d %H:%M:%S')\n",
    "    \n",
    "    validation_data.to_csv(validation_file, index=False)\n",
    "\n",
    "end_time = time.time()\n",
    "execution_time = end_time - start_time\n",
    "print(f\"Execution Time: {execution_time} seconds\")\n",
    "print(\"ML model for KNN\")"
   ]
  },
  {
   "cell_type": "code",
   "execution_count": null,
   "id": "f99de56c-e039-442d-9d0e-c63fce300b92",
   "metadata": {},
   "outputs": [],
   "source": []
  },
  {
   "cell_type": "code",
   "execution_count": 37,
   "id": "1ee7ef84-ff01-4dd3-a2b3-f9ad9fb71687",
   "metadata": {},
   "outputs": [
    {
     "name": "stdout",
     "output_type": "stream",
     "text": [
      "Cross-Validation R^2 Scores: [0.80427564 0.78820333 0.45174086 0.84270795 0.24708238]\n",
      "Mean Cross-Validation R^2: 0.6268020303102249\n",
      "Model MAE: 0.1559439199341003\n",
      "Model RMSE: 0.6094561276713235\n",
      "Model R^2: 0.980989056748098\n",
      "ML model for KNN\n",
      "Model predictions have been saved to the validation files.\n"
     ]
    }
   ],
   "source": [
    "# NOT IN USE IN THIS WORK\n",
    "# MODEL WITH SCALED FEATURES\n",
    "\n",
    "# KNN model with validation and performance metrics\n",
    "\n",
    "train_files = glob.glob(train_folder_path + \"*.csv\")\n",
    "train_data = pd.concat([pd.read_csv(f) for f in train_files], ignore_index=True)\n",
    "train_data.dropna(inplace=True)  \n",
    "\n",
    "X = train_data[['RTD', 'SOG', 'COG','LAT','LON']]  \n",
    "y = train_data['RTT']  \n",
    "\n",
    "X_train, X_valid, y_train, y_valid = train_test_split(X, y, test_size=0.2, random_state=42)\n",
    "\n",
    "model = KNeighborsRegressor(n_neighbors=10)  \n",
    "\n",
    "model.fit(X_train, y_train)\n",
    "\n",
    "cv_scores = cross_val_score(model, X, y, cv=5, scoring='r2')\n",
    "print(f\"Cross-Validation R^2 Scores: {cv_scores}\")\n",
    "print(f\"Mean Cross-Validation R^2: {np.mean(cv_scores)}\")\n",
    "\n",
    "y_pred = model.predict(X_valid)\n",
    "mae = mean_absolute_error(y_valid, y_pred)\n",
    "rmse = np.sqrt(mean_squared_error(y_valid, y_pred))\n",
    "r2 = r2_score(y_valid, y_pred)\n",
    "\n",
    "print(f\"Model MAE: {mae}\")\n",
    "print(f\"Model RMSE: {rmse}\")\n",
    "print(f\"Model R^2: {r2}\")\n",
    "\n",
    "test_files = glob.glob(test_subfolder_path + \"*.csv\")\n",
    "for test_file in test_files:\n",
    "    test_data = pd.read_csv(test_file)\n",
    "    test_data.dropna(inplace=True) \n",
    "    X_test = test_data[['RTD', 'SOG', 'COG','LAT','LON']]  \n",
    "    y_test_pred = model.predict(X_test)\n",
    "    \n",
    "    validation_file = os.path.join(validate_subfolder_path, os.path.basename(test_file))\n",
    "    validation_data = pd.read_csv(validation_file)\n",
    "    validation_data = validation_data.iloc[:len(y_test_pred)]  \n",
    "    validation_data['Predicted_RTT'] = y_test_pred\n",
    "    validation_data.to_csv(validation_file, index=False)\n",
    "\n",
    "print(\"ML model for KNN\")\n",
    "print(\"Model predictions have been saved to the validation files.\")"
   ]
  },
  {
   "cell_type": "code",
   "execution_count": null,
   "id": "fabd6ecb-ba1e-447d-a1bb-880ebc046e8c",
   "metadata": {},
   "outputs": [],
   "source": []
  }
 ],
 "metadata": {
  "kernelspec": {
   "display_name": "Python 3 (ipykernel)",
   "language": "python",
   "name": "python3"
  },
  "language_info": {
   "codemirror_mode": {
    "name": "ipython",
    "version": 3
   },
   "file_extension": ".py",
   "mimetype": "text/x-python",
   "name": "python",
   "nbconvert_exporter": "python",
   "pygments_lexer": "ipython3",
   "version": "3.10.15"
  }
 },
 "nbformat": 4,
 "nbformat_minor": 5
}
