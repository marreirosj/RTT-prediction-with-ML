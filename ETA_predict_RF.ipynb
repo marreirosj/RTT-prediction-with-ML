{
 "cells": [
  {
   "cell_type": "markdown",
   "id": "fcdf638e-5895-402f-89d9-472abda7bf23",
   "metadata": {},
   "source": [
    "# Random Forest Regression"
   ]
  },
  {
   "cell_type": "code",
   "execution_count": null,
   "id": "907d8048-55a0-49fe-be82-ce4e7fd62f47",
   "metadata": {},
   "outputs": [],
   "source": []
  },
  {
   "cell_type": "code",
   "execution_count": 1,
   "id": "00ef5661-969f-4c6e-9240-89eeb04ea8f5",
   "metadata": {},
   "outputs": [],
   "source": [
    "import os\n",
    "import pandas as pd\n",
    "import numpy as np\n",
    "import shutil\n",
    "import random\n",
    "import time\n",
    "from datetime import timedelta\n",
    "from sklearn.model_selection import train_test_split, cross_val_score\n",
    "from sklearn.ensemble import RandomForestRegressor\n",
    "from sklearn.metrics import mean_absolute_error, mean_squared_error, r2_score\n",
    "import glob"
   ]
  },
  {
   "cell_type": "code",
   "execution_count": null,
   "id": "6a103a02-9b31-4301-a40e-2b2fd186c631",
   "metadata": {},
   "outputs": [],
   "source": []
  },
  {
   "cell_type": "code",
   "execution_count": 3,
   "id": "fe7bb95f-e35a-4eea-a3bd-0603e790c0c5",
   "metadata": {},
   "outputs": [],
   "source": [
    "# Define paths\n",
    "output_folder_path = 'D:/A TESE/Modelo ML/CSV/voyages_final'  # Folder containing processed CSV files\n",
    "train_folder_path = 'D:/A TESE/Modelo ML/RF/train_RF/'  # Folder to save train files\n",
    "test_folder_path = 'D:/A TESE/Modelo ML/RF/test_RF/'  # Folder to save test files\n",
    "test_subfolder_path = os.path.join(test_folder_path, 'test/')  # Subfolder for test half\n",
    "validate_subfolder_path = os.path.join(test_folder_path, 'validate/')  # Subfolder for validation half\n",
    "\n",
    "# Create train, test, and validation folders if they don't exist\n",
    "os.makedirs(train_folder_path, exist_ok=True)\n",
    "os.makedirs(test_subfolder_path, exist_ok=True)\n",
    "os.makedirs(validate_subfolder_path, exist_ok=True)"
   ]
  },
  {
   "cell_type": "code",
   "execution_count": null,
   "id": "d5c5782d-d56e-425b-aa60-d280dc7ae8e5",
   "metadata": {},
   "outputs": [],
   "source": []
  },
  {
   "cell_type": "code",
   "execution_count": 5,
   "id": "1c19d664-1b1b-42e4-91ce-8c79a5c1d3af",
   "metadata": {},
   "outputs": [
    {
     "name": "stdout",
     "output_type": "stream",
     "text": [
      "Files have been split into train, test, and validate folders.\n"
     ]
    }
   ],
   "source": [
    "# Get all CSV files in the output folder\n",
    "all_files = [f for f in os.listdir(output_folder_path) if f.endswith('.csv')]\n",
    "\n",
    "# Shuffle files for random selection\n",
    "random.shuffle(all_files)\n",
    "\n",
    "# Split files into 70% train and 30% test\n",
    "train_files = all_files[:int(0.7 * len(all_files))]\n",
    "test_files = all_files[int(0.7 * len(all_files)):] \n",
    "\n",
    "# Move train files to train folder\n",
    "for file in train_files:\n",
    "    shutil.copy(os.path.join(output_folder_path, file), os.path.join(train_folder_path, file))\n",
    "\n",
    "# Split test files into test and validation halves\n",
    "for file in test_files:\n",
    "    file_path = os.path.join(output_folder_path, file)\n",
    "    df = pd.read_csv(file_path)\n",
    "\n",
    "    # Split data into two halves\n",
    "    midpoint = len(df) // 2\n",
    "    test_half = df.iloc[:midpoint]\n",
    "    validate_half = df.iloc[midpoint:]\n",
    "\n",
    "    # Save test half\n",
    "    test_half.to_csv(os.path.join(test_subfolder_path, file), index=False)\n",
    "\n",
    "    # Save validation half\n",
    "    validate_half.to_csv(os.path.join(validate_subfolder_path, file), index=False)\n",
    "\n",
    "print(\"Files have been split into train, test, and validate folders.\")"
   ]
  },
  {
   "cell_type": "code",
   "execution_count": null,
   "id": "095ab2b0-8f2e-4b24-93d1-716d50ed811f",
   "metadata": {},
   "outputs": [],
   "source": []
  },
  {
   "cell_type": "code",
   "execution_count": 9,
   "id": "a17b38d6-0220-461d-b375-6e658509f7c0",
   "metadata": {},
   "outputs": [
    {
     "name": "stdout",
     "output_type": "stream",
     "text": [
      "Cross-Validation R^2 Scores: [0.94093975 0.97744558 0.9887294  0.98091625 0.92267148]\n",
      "Mean Cross-Validation R^2: 0.9621404910699287\n",
      "Model MAE: 0.004533182465111077\n",
      "Model RMSE: 0.016337689900680418\n",
      "Model R^2: 0.9999861907615685\n",
      "Execution Time: 702.0408506393433 seconds\n",
      "ML model for KNN\n"
     ]
    }
   ],
   "source": [
    "# Start the timer\n",
    "start_time = time.time()\n",
    "\n",
    "# Load train data\n",
    "train_files = glob.glob(train_folder_path + \"*.csv\")\n",
    "train_data = pd.concat([pd.read_csv(f) for f in train_files], ignore_index=True)\n",
    "train_data.dropna(inplace=True)  # Drop rows with NaN values\n",
    "\n",
    "# Features and target variable\n",
    "X = train_data[['RTD', 'SOG', 'COG', 'LAT', 'LON']]  # Feature columns\n",
    "y = train_data['RTT']  # Target column\n",
    "\n",
    "# Split train data for validation\n",
    "X_train, X_valid, y_train, y_valid = train_test_split(X, y, test_size=0.2, random_state=42)\n",
    "\n",
    "# Train Random Forest Regressor model (more complex model to capture non-linear relationships)\n",
    "model = RandomForestRegressor(n_estimators=100, random_state=42)\n",
    "model.fit(X_train, y_train)\n",
    "\n",
    "# Cross-validation to assess model performance\n",
    "cv_scores = cross_val_score(model, X, y, cv=5, scoring='r2')\n",
    "print(f\"Cross-Validation R^2 Scores: {cv_scores}\")\n",
    "print(f\"Mean Cross-Validation R^2: {np.mean(cv_scores)}\")\n",
    "\n",
    "# Validate model\n",
    "y_pred = model.predict(X_valid)\n",
    "mae = mean_absolute_error(y_valid, y_pred)\n",
    "rmse = np.sqrt(mean_squared_error(y_valid, y_pred))\n",
    "r2 = r2_score(y_valid, y_pred)\n",
    "\n",
    "print(f\"Model MAE: {mae}\")\n",
    "print(f\"Model RMSE: {rmse}\")\n",
    "print(f\"Model R^2: {r2}\")\n",
    "\n",
    "# Test the model on test data\n",
    "test_files = glob.glob(test_subfolder_path + \"*.csv\")\n",
    "for test_file in test_files:\n",
    "    test_data = pd.read_csv(test_file)\n",
    "    test_data.dropna(inplace=True)  # Drop rows with NaN values\n",
    "    X_test = test_data[['RTD', 'SOG', 'COG', 'LAT', 'LON']]  # Features\n",
    "    y_test_pred = model.predict(X_test)\n",
    "\n",
    "    # Save the predictions to the corresponding validation file\n",
    "    validation_file = os.path.join(validate_subfolder_path, os.path.basename(test_file))\n",
    "    validation_data = pd.read_csv(validation_file)\n",
    "    validation_data = validation_data.iloc[:len(y_test_pred)]  # Ensure alignment if rows were dropped\n",
    "    validation_data['Predicted_RTT'] = y_test_pred\n",
    "\n",
    "    # Ensure 'BaseDateTime' is a datetime object\n",
    "    validation_data['BaseDateTime'] = pd.to_datetime(validation_data['BaseDateTime'], errors='coerce')\n",
    "\n",
    "    # Calculate Predicted_ETA by adding Predicted_RTT (in hours) to BaseDateTime\n",
    "    validation_data['Predicted_ETA'] = validation_data['BaseDateTime'] + pd.to_timedelta(validation_data['Predicted_RTT'], unit='h')\n",
    "\n",
    "    # Ensure Predicted_ETA is displayed properly as datetime\n",
    "    validation_data['Predicted_ETA'] = validation_data['Predicted_ETA'].dt.strftime('%Y-%m-%d %H:%M:%S')\n",
    "\n",
    "    # Save the updated validation file with the correct datetime format\n",
    "    validation_data.to_csv(validation_file, index=False)\n",
    "\n",
    "# End the timer and print execution time\n",
    "end_time = time.time()\n",
    "execution_time = end_time - start_time\n",
    "print(f\"Execution Time: {execution_time} seconds\")\n",
    "print(\"ML model for RFR\")"
   ]
  },
  {
   "cell_type": "code",
   "execution_count": null,
   "id": "6d5b5029-11bf-442b-b020-1afd5de4ed73",
   "metadata": {},
   "outputs": [],
   "source": []
  },
  {
   "cell_type": "code",
   "execution_count": null,
   "id": "9b44f98b-22e7-4ca0-87b5-11b0ae5bbd83",
   "metadata": {},
   "outputs": [],
   "source": []
  },
  {
   "cell_type": "code",
   "execution_count": 30,
   "id": "fb7d94b8-6a7a-4a3a-ba3f-9c968b2e446e",
   "metadata": {},
   "outputs": [
    {
     "name": "stdout",
     "output_type": "stream",
     "text": [
      "Cross-Validation R^2 Scores: [0.95312965 0.96745517 0.92576949 0.99161241 0.77605567]\n",
      "Mean Cross-Validation R^2: 0.9228044791563882\n",
      "Model MAE: 0.006623407779553002\n",
      "Model RMSE: 0.08621841896339671\n",
      "Model R^2: 0.9996258127732152\n",
      "ML model for RFR\n",
      "Model predictions have been saved to the validation files.\n"
     ]
    }
   ],
   "source": [
    "# Load train data\n",
    "train_files = glob.glob(train_folder_path + \"*.csv\")\n",
    "train_data = pd.concat([pd.read_csv(f) for f in train_files], ignore_index=True)\n",
    "train_data.dropna(inplace=True)  # Drop rows with NaN values\n",
    "\n",
    "# Features and target variable\n",
    "X = train_data[['RTD', 'SOG', 'COG','LAT','LON']]  # Feature columns (added 'COG')\n",
    "y = train_data['RTT']  # Target column\n",
    "\n",
    "# Split train data for validation\n",
    "X_train, X_valid, y_train, y_valid = train_test_split(X, y, test_size=0.2, random_state=42)\n",
    "\n",
    "# Train Random Forest Regressor model (more complex model to capture non-linear relationships)\n",
    "model = RandomForestRegressor(n_estimators=100, random_state=42)\n",
    "model.fit(X_train, y_train)\n",
    "\n",
    "# Cross-validation to assess model performance\n",
    "cv_scores = cross_val_score(model, X, y, cv=5, scoring='r2')\n",
    "print(f\"Cross-Validation R^2 Scores: {cv_scores}\")\n",
    "print(f\"Mean Cross-Validation R^2: {np.mean(cv_scores)}\")\n",
    "\n",
    "# Validate model\n",
    "y_pred = model.predict(X_valid)\n",
    "mae = mean_absolute_error(y_valid, y_pred)\n",
    "rmse = np.sqrt(mean_squared_error(y_valid, y_pred))\n",
    "r2 = r2_score(y_valid, y_pred)\n",
    "\n",
    "print(f\"Model MAE: {mae}\")\n",
    "print(f\"Model RMSE: {rmse}\")\n",
    "print(f\"Model R^2: {r2}\")\n",
    "\n",
    "# Test the model on test data\n",
    "test_files = glob.glob(test_subfolder_path + \"*.csv\")\n",
    "for test_file in test_files:\n",
    "    test_data = pd.read_csv(test_file)\n",
    "    test_data.dropna(inplace=True)  # Drop rows with NaN values\n",
    "    X_test = test_data[['RTD', 'SOG', 'COG','LAT','LON']]  # Updated features\n",
    "    y_test_pred = model.predict(X_test)\n",
    "\n",
    "    # Save the predictions to the corresponding validation file\n",
    "    validation_file = os.path.join(validate_subfolder_path, os.path.basename(test_file))\n",
    "    validation_data = pd.read_csv(validation_file)\n",
    "    validation_data = validation_data.iloc[:len(y_test_pred)]  # Ensure alignment if rows were dropped\n",
    "    validation_data['Predicted_RTT'] = y_test_pred\n",
    "    validation_data.to_csv(validation_file, index=False)\n",
    "print(\"ML model for RFR\")\n",
    "print(\"Model predictions have been saved to the validation files.\")"
   ]
  },
  {
   "cell_type": "code",
   "execution_count": null,
   "id": "3197ff8f-eb2c-4821-bf46-f4f21a96ecd0",
   "metadata": {},
   "outputs": [],
   "source": []
  }
 ],
 "metadata": {
  "kernelspec": {
   "display_name": "Python 3 (ipykernel)",
   "language": "python",
   "name": "python3"
  },
  "language_info": {
   "codemirror_mode": {
    "name": "ipython",
    "version": 3
   },
   "file_extension": ".py",
   "mimetype": "text/x-python",
   "name": "python",
   "nbconvert_exporter": "python",
   "pygments_lexer": "ipython3",
   "version": "3.10.15"
  }
 },
 "nbformat": 4,
 "nbformat_minor": 5
}
